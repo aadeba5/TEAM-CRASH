{
 "cells": [
  {
   "cell_type": "markdown",
   "metadata": {},
   "source": [
    "# KNN Classifier with GridSearchCV Tuning"
   ]
  },
  {
   "cell_type": "markdown",
   "metadata": {},
   "source": [
    "# Read the CSV and Perform Basic Data Cleaning"
   ]
  },
  {
   "cell_type": "code",
   "execution_count": 2,
   "metadata": {},
   "outputs": [],
   "source": [
    "# %matplotlib inline\n",
    "import matplotlib.pyplot as plt\n",
    "import numpy as np\n",
    "import pandas as pd"
   ]
  },
  {
   "cell_type": "code",
   "execution_count": 3,
   "metadata": {},
   "outputs": [
    {
     "output_type": "execute_result",
     "data": {
      "text/plain": [
       "   age  incident_hour_of_the_day  number_of_vehicles_involved  auto_make  \\\n",
       "0   48                         5                            1       Saab   \n",
       "1   42                         8                            1   Mercedes   \n",
       "2   29                         7                            3      Dodge   \n",
       "3   41                         5                            1  Chevrolet   \n",
       "4   44                        20                            1     Accura   \n",
       "\n",
       "   auto_year state  severity           start_time             end_time  \\\n",
       "0       2004    NC         2  2019-10-07 17:43:09  2019-10-07 19:42:50   \n",
       "1       2007    CA         2  2020-12-13 21:53:00  2020-12-13 22:44:00   \n",
       "2       2007    NV         2  2018-04-17 16:51:23  2018-04-17 17:50:46   \n",
       "3       2014    FL         3  2016-08-31 17:40:49  2016-08-31 18:10:49   \n",
       "4       2009    NC         3  2018-10-17 16:40:36  2018-10-17 17:10:18   \n",
       "\n",
       "   temperature  humidity  visibility  wind_speed  precipitation  \n",
       "0         76.0      62.0        10.0         3.0            0.0  \n",
       "1         51.0      80.0        10.0         6.0            0.0  \n",
       "2         53.6      16.0        10.0         4.6            NaN  \n",
       "3         84.2      84.0        10.0        13.8            NaN  \n",
       "4         73.4      33.0        10.0         6.9            NaN  "
      ],
      "text/html": "<div>\n<style scoped>\n    .dataframe tbody tr th:only-of-type {\n        vertical-align: middle;\n    }\n\n    .dataframe tbody tr th {\n        vertical-align: top;\n    }\n\n    .dataframe thead th {\n        text-align: right;\n    }\n</style>\n<table border=\"1\" class=\"dataframe\">\n  <thead>\n    <tr style=\"text-align: right;\">\n      <th></th>\n      <th>age</th>\n      <th>incident_hour_of_the_day</th>\n      <th>number_of_vehicles_involved</th>\n      <th>auto_make</th>\n      <th>auto_year</th>\n      <th>state</th>\n      <th>severity</th>\n      <th>start_time</th>\n      <th>end_time</th>\n      <th>temperature</th>\n      <th>humidity</th>\n      <th>visibility</th>\n      <th>wind_speed</th>\n      <th>precipitation</th>\n    </tr>\n  </thead>\n  <tbody>\n    <tr>\n      <th>0</th>\n      <td>48</td>\n      <td>5</td>\n      <td>1</td>\n      <td>Saab</td>\n      <td>2004</td>\n      <td>NC</td>\n      <td>2</td>\n      <td>2019-10-07 17:43:09</td>\n      <td>2019-10-07 19:42:50</td>\n      <td>76.0</td>\n      <td>62.0</td>\n      <td>10.0</td>\n      <td>3.0</td>\n      <td>0.0</td>\n    </tr>\n    <tr>\n      <th>1</th>\n      <td>42</td>\n      <td>8</td>\n      <td>1</td>\n      <td>Mercedes</td>\n      <td>2007</td>\n      <td>CA</td>\n      <td>2</td>\n      <td>2020-12-13 21:53:00</td>\n      <td>2020-12-13 22:44:00</td>\n      <td>51.0</td>\n      <td>80.0</td>\n      <td>10.0</td>\n      <td>6.0</td>\n      <td>0.0</td>\n    </tr>\n    <tr>\n      <th>2</th>\n      <td>29</td>\n      <td>7</td>\n      <td>3</td>\n      <td>Dodge</td>\n      <td>2007</td>\n      <td>NV</td>\n      <td>2</td>\n      <td>2018-04-17 16:51:23</td>\n      <td>2018-04-17 17:50:46</td>\n      <td>53.6</td>\n      <td>16.0</td>\n      <td>10.0</td>\n      <td>4.6</td>\n      <td>NaN</td>\n    </tr>\n    <tr>\n      <th>3</th>\n      <td>41</td>\n      <td>5</td>\n      <td>1</td>\n      <td>Chevrolet</td>\n      <td>2014</td>\n      <td>FL</td>\n      <td>3</td>\n      <td>2016-08-31 17:40:49</td>\n      <td>2016-08-31 18:10:49</td>\n      <td>84.2</td>\n      <td>84.0</td>\n      <td>10.0</td>\n      <td>13.8</td>\n      <td>NaN</td>\n    </tr>\n    <tr>\n      <th>4</th>\n      <td>44</td>\n      <td>20</td>\n      <td>1</td>\n      <td>Accura</td>\n      <td>2009</td>\n      <td>NC</td>\n      <td>3</td>\n      <td>2018-10-17 16:40:36</td>\n      <td>2018-10-17 17:10:18</td>\n      <td>73.4</td>\n      <td>33.0</td>\n      <td>10.0</td>\n      <td>6.9</td>\n      <td>NaN</td>\n    </tr>\n  </tbody>\n</table>\n</div>"
     },
     "metadata": {},
     "execution_count": 3
    }
   ],
   "source": [
    "claims_param = pd.read_csv(\"./Resources/accident_claimpgsql.csv\")\n",
    "# TEAM_CRASH copy/ML_starter_code_templates/claims_selected_features.csv\n",
    "\n",
    "# Drop the null columns where all values are null\n",
    "claims_param1 = claims_param.dropna(axis='columns', how='all')\n",
    "# Drop the null rows\n",
    "claims_param1.head()"
   ]
  },
  {
   "cell_type": "code",
   "execution_count": 4,
   "metadata": {},
   "outputs": [
    {
     "output_type": "execute_result",
     "data": {
      "text/plain": [
       "Index(['age', 'incident_hour_of_the_day', 'number_of_vehicles_involved',\n",
       "       'auto_make', 'auto_year', 'state', 'severity', 'start_time', 'end_time',\n",
       "       'temperature', 'humidity', 'visibility', 'wind_speed', 'precipitation'],\n",
       "      dtype='object')"
      ]
     },
     "metadata": {},
     "execution_count": 4
    }
   ],
   "source": [
    "claims_param1.columns"
   ]
  },
  {
   "cell_type": "code",
   "execution_count": 6,
   "metadata": {},
   "outputs": [
    {
     "output_type": "stream",
     "name": "stdout",
     "text": [
      "Index(['age', 'incident_hour_of_the_day', 'number_of_vehicles_involved',\n       'auto_year', 'severity', 'temperature', 'humidity', 'visibility',\n       'wind_speed', 'precipitation'],\n      dtype='object')\n"
     ]
    }
   ],
   "source": [
    "# Set features for training & testing. This will also be used as your x values.\n",
    "claims_trining_features = claims_param1[['age', 'incident_hour_of_the_day', 'number_of_vehicles_involved', 'auto_year', 'severity','temperature', 'humidity', 'visibility', 'wind_speed', 'precipitation']].dropna()\n",
    "# DataFrame with new columns\n",
    "print(claims_trining_features.columns)"
   ]
  },
  {
   "cell_type": "markdown",
   "metadata": {},
   "source": [
    "# Create a Train Test Split\n",
    "\n",
    "Use 'auto_year' for the y values"
   ]
  },
  {
   "cell_type": "code",
   "execution_count": 12,
   "metadata": {},
   "outputs": [],
   "source": [
    "# X = selected_features\n",
    "# y = df['incident_hour_of_the_day']\n",
    "# print(X.shape, y.shape)"
   ]
  },
  {
   "cell_type": "code",
   "execution_count": 7,
   "metadata": {},
   "outputs": [
    {
     "output_type": "stream",
     "name": "stdout",
     "text": [
      "(549, 10) (549,)\n"
     ]
    }
   ],
   "source": [
    "X = claims_trining_features\n",
    "y = claims_trining_features['severity']\n",
    "print(X.shape, y.shape)"
   ]
  },
  {
   "cell_type": "code",
   "execution_count": 8,
   "metadata": {},
   "outputs": [],
   "source": [
    "# Use train_test_split to create training and testing data\n",
    "\n",
    "from sklearn.model_selection import train_test_split\n",
    "\n",
    "X_train, X_test, y_train, y_test = train_test_split(X, y, random_state=42)"
   ]
  },
  {
   "cell_type": "markdown",
   "metadata": {},
   "source": [
    "# Pre-processing\n",
    "\n",
    "Scale the data using the MinMaxScaler and perform some feature selection"
   ]
  },
  {
   "cell_type": "code",
   "execution_count": 9,
   "metadata": {},
   "outputs": [],
   "source": [
    "# Scale your data\n",
    "from sklearn.preprocessing import MinMaxScaler\n",
    "X_minmax = MinMaxScaler().fit(X_train)\n",
    "\n",
    "X_train_minmax = X_minmax.transform(X_train)\n",
    "X_test_minmax = X_minmax.transform(X_test)"
   ]
  },
  {
   "cell_type": "markdown",
   "metadata": {},
   "source": [
    "# Train the Model"
   ]
  },
  {
   "cell_type": "code",
   "execution_count": 10,
   "metadata": {},
   "outputs": [
    {
     "output_type": "stream",
     "name": "stdout",
     "text": [
      "k: 1, Train/Test Score: 1.000/0.942\n",
      "k: 3, Train/Test Score: 0.942/0.906\n",
      "k: 5, Train/Test Score: 0.920/0.891\n",
      "k: 7, Train/Test Score: 0.883/0.870\n",
      "k: 9, Train/Test Score: 0.866/0.870\n",
      "k: 11, Train/Test Score: 0.844/0.870\n",
      "k: 13, Train/Test Score: 0.818/0.841\n",
      "k: 15, Train/Test Score: 0.803/0.841\n",
      "k: 17, Train/Test Score: 0.796/0.819\n",
      "k: 19, Train/Test Score: 0.793/0.819\n",
      "k: 21, Train/Test Score: 0.788/0.819\n",
      "k: 23, Train/Test Score: 0.783/0.819\n",
      "k: 25, Train/Test Score: 0.781/0.819\n",
      "k: 27, Train/Test Score: 0.779/0.819\n",
      "k: 29, Train/Test Score: 0.779/0.819\n"
     ]
    },
    {
     "output_type": "display_data",
     "data": {
      "text/plain": "<Figure size 432x288 with 1 Axes>",
      "image/svg+xml": "<?xml version=\"1.0\" encoding=\"utf-8\" standalone=\"no\"?>\n<!DOCTYPE svg PUBLIC \"-//W3C//DTD SVG 1.1//EN\"\n  \"http://www.w3.org/Graphics/SVG/1.1/DTD/svg11.dtd\">\n<!-- Created with matplotlib (https://matplotlib.org/) -->\n<svg height=\"262.19625pt\" version=\"1.1\" viewBox=\"0 0 394.158198 262.19625\" width=\"394.158198pt\" xmlns=\"http://www.w3.org/2000/svg\" xmlns:xlink=\"http://www.w3.org/1999/xlink\">\n <metadata>\n  <rdf:RDF xmlns:cc=\"http://creativecommons.org/ns#\" xmlns:dc=\"http://purl.org/dc/elements/1.1/\" xmlns:rdf=\"http://www.w3.org/1999/02/22-rdf-syntax-ns#\">\n   <cc:Work>\n    <dc:type rdf:resource=\"http://purl.org/dc/dcmitype/StillImage\"/>\n    <dc:date>2021-07-06T22:13:19.060351</dc:date>\n    <dc:format>image/svg+xml</dc:format>\n    <dc:creator>\n     <cc:Agent>\n      <dc:title>Matplotlib v3.3.4, https://matplotlib.org/</dc:title>\n     </cc:Agent>\n    </dc:creator>\n   </cc:Work>\n  </rdf:RDF>\n </metadata>\n <defs>\n  <style type=\"text/css\">*{stroke-linecap:butt;stroke-linejoin:round;}</style>\n </defs>\n <g id=\"figure_1\">\n  <g id=\"patch_1\">\n   <path d=\"M 0 262.19625 \nL 394.158198 262.19625 \nL 394.158198 0 \nL 0 0 \nz\n\" style=\"fill:none;\"/>\n  </g>\n  <g id=\"axes_1\">\n   <g id=\"patch_2\">\n    <path d=\"M 50.14375 224.64 \nL 384.94375 224.64 \nL 384.94375 7.2 \nL 50.14375 7.2 \nz\n\" style=\"fill:#ffffff;\"/>\n   </g>\n   <g id=\"matplotlib.axis_1\">\n    <g id=\"xtick_1\">\n     <g id=\"line2d_1\">\n      <defs>\n       <path d=\"M 0 0 \nL 0 3.5 \n\" id=\"m0aa629983f\" style=\"stroke:#000000;stroke-width:0.8;\"/>\n      </defs>\n      <g>\n       <use style=\"stroke:#000000;stroke-width:0.8;\" x=\"54.491802\" xlink:href=\"#m0aa629983f\" y=\"224.64\"/>\n      </g>\n     </g>\n     <g id=\"text_1\">\n      <!-- 0 -->\n      <g transform=\"translate(51.310552 239.238438)scale(0.1 -0.1)\">\n       <defs>\n        <path d=\"M 31.78125 66.40625 \nQ 24.171875 66.40625 20.328125 58.90625 \nQ 16.5 51.421875 16.5 36.375 \nQ 16.5 21.390625 20.328125 13.890625 \nQ 24.171875 6.390625 31.78125 6.390625 \nQ 39.453125 6.390625 43.28125 13.890625 \nQ 47.125 21.390625 47.125 36.375 \nQ 47.125 51.421875 43.28125 58.90625 \nQ 39.453125 66.40625 31.78125 66.40625 \nz\nM 31.78125 74.21875 \nQ 44.046875 74.21875 50.515625 64.515625 \nQ 56.984375 54.828125 56.984375 36.375 \nQ 56.984375 17.96875 50.515625 8.265625 \nQ 44.046875 -1.421875 31.78125 -1.421875 \nQ 19.53125 -1.421875 13.0625 8.265625 \nQ 6.59375 17.96875 6.59375 36.375 \nQ 6.59375 54.828125 13.0625 64.515625 \nQ 19.53125 74.21875 31.78125 74.21875 \nz\n\" id=\"DejaVuSans-48\"/>\n       </defs>\n       <use xlink:href=\"#DejaVuSans-48\"/>\n      </g>\n     </g>\n    </g>\n    <g id=\"xtick_2\">\n     <g id=\"line2d_2\">\n      <g>\n       <use style=\"stroke:#000000;stroke-width:0.8;\" x=\"108.842451\" xlink:href=\"#m0aa629983f\" y=\"224.64\"/>\n      </g>\n     </g>\n     <g id=\"text_2\">\n      <!-- 5 -->\n      <g transform=\"translate(105.661201 239.238438)scale(0.1 -0.1)\">\n       <defs>\n        <path d=\"M 10.796875 72.90625 \nL 49.515625 72.90625 \nL 49.515625 64.59375 \nL 19.828125 64.59375 \nL 19.828125 46.734375 \nQ 21.96875 47.46875 24.109375 47.828125 \nQ 26.265625 48.1875 28.421875 48.1875 \nQ 40.625 48.1875 47.75 41.5 \nQ 54.890625 34.8125 54.890625 23.390625 \nQ 54.890625 11.625 47.5625 5.09375 \nQ 40.234375 -1.421875 26.90625 -1.421875 \nQ 22.3125 -1.421875 17.546875 -0.640625 \nQ 12.796875 0.140625 7.71875 1.703125 \nL 7.71875 11.625 \nQ 12.109375 9.234375 16.796875 8.0625 \nQ 21.484375 6.890625 26.703125 6.890625 \nQ 35.15625 6.890625 40.078125 11.328125 \nQ 45.015625 15.765625 45.015625 23.390625 \nQ 45.015625 31 40.078125 35.4375 \nQ 35.15625 39.890625 26.703125 39.890625 \nQ 22.75 39.890625 18.8125 39.015625 \nQ 14.890625 38.140625 10.796875 36.28125 \nz\n\" id=\"DejaVuSans-53\"/>\n       </defs>\n       <use xlink:href=\"#DejaVuSans-53\"/>\n      </g>\n     </g>\n    </g>\n    <g id=\"xtick_3\">\n     <g id=\"line2d_3\">\n      <g>\n       <use style=\"stroke:#000000;stroke-width:0.8;\" x=\"163.193101\" xlink:href=\"#m0aa629983f\" y=\"224.64\"/>\n      </g>\n     </g>\n     <g id=\"text_3\">\n      <!-- 10 -->\n      <g transform=\"translate(156.830601 239.238438)scale(0.1 -0.1)\">\n       <defs>\n        <path d=\"M 12.40625 8.296875 \nL 28.515625 8.296875 \nL 28.515625 63.921875 \nL 10.984375 60.40625 \nL 10.984375 69.390625 \nL 28.421875 72.90625 \nL 38.28125 72.90625 \nL 38.28125 8.296875 \nL 54.390625 8.296875 \nL 54.390625 0 \nL 12.40625 0 \nz\n\" id=\"DejaVuSans-49\"/>\n       </defs>\n       <use xlink:href=\"#DejaVuSans-49\"/>\n       <use x=\"63.623047\" xlink:href=\"#DejaVuSans-48\"/>\n      </g>\n     </g>\n    </g>\n    <g id=\"xtick_4\">\n     <g id=\"line2d_4\">\n      <g>\n       <use style=\"stroke:#000000;stroke-width:0.8;\" x=\"217.54375\" xlink:href=\"#m0aa629983f\" y=\"224.64\"/>\n      </g>\n     </g>\n     <g id=\"text_4\">\n      <!-- 15 -->\n      <g transform=\"translate(211.18125 239.238438)scale(0.1 -0.1)\">\n       <use xlink:href=\"#DejaVuSans-49\"/>\n       <use x=\"63.623047\" xlink:href=\"#DejaVuSans-53\"/>\n      </g>\n     </g>\n    </g>\n    <g id=\"xtick_5\">\n     <g id=\"line2d_5\">\n      <g>\n       <use style=\"stroke:#000000;stroke-width:0.8;\" x=\"271.894399\" xlink:href=\"#m0aa629983f\" y=\"224.64\"/>\n      </g>\n     </g>\n     <g id=\"text_5\">\n      <!-- 20 -->\n      <g transform=\"translate(265.531899 239.238438)scale(0.1 -0.1)\">\n       <defs>\n        <path d=\"M 19.1875 8.296875 \nL 53.609375 8.296875 \nL 53.609375 0 \nL 7.328125 0 \nL 7.328125 8.296875 \nQ 12.9375 14.109375 22.625 23.890625 \nQ 32.328125 33.6875 34.8125 36.53125 \nQ 39.546875 41.84375 41.421875 45.53125 \nQ 43.3125 49.21875 43.3125 52.78125 \nQ 43.3125 58.59375 39.234375 62.25 \nQ 35.15625 65.921875 28.609375 65.921875 \nQ 23.96875 65.921875 18.8125 64.3125 \nQ 13.671875 62.703125 7.8125 59.421875 \nL 7.8125 69.390625 \nQ 13.765625 71.78125 18.9375 73 \nQ 24.125 74.21875 28.421875 74.21875 \nQ 39.75 74.21875 46.484375 68.546875 \nQ 53.21875 62.890625 53.21875 53.421875 \nQ 53.21875 48.921875 51.53125 44.890625 \nQ 49.859375 40.875 45.40625 35.40625 \nQ 44.1875 33.984375 37.640625 27.21875 \nQ 31.109375 20.453125 19.1875 8.296875 \nz\n\" id=\"DejaVuSans-50\"/>\n       </defs>\n       <use xlink:href=\"#DejaVuSans-50\"/>\n       <use x=\"63.623047\" xlink:href=\"#DejaVuSans-48\"/>\n      </g>\n     </g>\n    </g>\n    <g id=\"xtick_6\">\n     <g id=\"line2d_6\">\n      <g>\n       <use style=\"stroke:#000000;stroke-width:0.8;\" x=\"326.245049\" xlink:href=\"#m0aa629983f\" y=\"224.64\"/>\n      </g>\n     </g>\n     <g id=\"text_6\">\n      <!-- 25 -->\n      <g transform=\"translate(319.882549 239.238438)scale(0.1 -0.1)\">\n       <use xlink:href=\"#DejaVuSans-50\"/>\n       <use x=\"63.623047\" xlink:href=\"#DejaVuSans-53\"/>\n      </g>\n     </g>\n    </g>\n    <g id=\"xtick_7\">\n     <g id=\"line2d_7\">\n      <g>\n       <use style=\"stroke:#000000;stroke-width:0.8;\" x=\"380.595698\" xlink:href=\"#m0aa629983f\" y=\"224.64\"/>\n      </g>\n     </g>\n     <g id=\"text_7\">\n      <!-- 30 -->\n      <g transform=\"translate(374.233198 239.238438)scale(0.1 -0.1)\">\n       <defs>\n        <path d=\"M 40.578125 39.3125 \nQ 47.65625 37.796875 51.625 33 \nQ 55.609375 28.21875 55.609375 21.1875 \nQ 55.609375 10.40625 48.1875 4.484375 \nQ 40.765625 -1.421875 27.09375 -1.421875 \nQ 22.515625 -1.421875 17.65625 -0.515625 \nQ 12.796875 0.390625 7.625 2.203125 \nL 7.625 11.71875 \nQ 11.71875 9.328125 16.59375 8.109375 \nQ 21.484375 6.890625 26.8125 6.890625 \nQ 36.078125 6.890625 40.9375 10.546875 \nQ 45.796875 14.203125 45.796875 21.1875 \nQ 45.796875 27.640625 41.28125 31.265625 \nQ 36.765625 34.90625 28.71875 34.90625 \nL 20.21875 34.90625 \nL 20.21875 43.015625 \nL 29.109375 43.015625 \nQ 36.375 43.015625 40.234375 45.921875 \nQ 44.09375 48.828125 44.09375 54.296875 \nQ 44.09375 59.90625 40.109375 62.90625 \nQ 36.140625 65.921875 28.71875 65.921875 \nQ 24.65625 65.921875 20.015625 65.03125 \nQ 15.375 64.15625 9.8125 62.3125 \nL 9.8125 71.09375 \nQ 15.4375 72.65625 20.34375 73.4375 \nQ 25.25 74.21875 29.59375 74.21875 \nQ 40.828125 74.21875 47.359375 69.109375 \nQ 53.90625 64.015625 53.90625 55.328125 \nQ 53.90625 49.265625 50.4375 45.09375 \nQ 46.96875 40.921875 40.578125 39.3125 \nz\n\" id=\"DejaVuSans-51\"/>\n       </defs>\n       <use xlink:href=\"#DejaVuSans-51\"/>\n       <use x=\"63.623047\" xlink:href=\"#DejaVuSans-48\"/>\n      </g>\n     </g>\n    </g>\n    <g id=\"text_8\">\n     <!-- k neighbors -->\n     <g transform=\"translate(188.188281 252.916563)scale(0.1 -0.1)\">\n      <defs>\n       <path d=\"M 9.078125 75.984375 \nL 18.109375 75.984375 \nL 18.109375 31.109375 \nL 44.921875 54.6875 \nL 56.390625 54.6875 \nL 27.390625 29.109375 \nL 57.625 0 \nL 45.90625 0 \nL 18.109375 26.703125 \nL 18.109375 0 \nL 9.078125 0 \nz\n\" id=\"DejaVuSans-107\"/>\n       <path id=\"DejaVuSans-32\"/>\n       <path d=\"M 54.890625 33.015625 \nL 54.890625 0 \nL 45.90625 0 \nL 45.90625 32.71875 \nQ 45.90625 40.484375 42.875 44.328125 \nQ 39.84375 48.1875 33.796875 48.1875 \nQ 26.515625 48.1875 22.3125 43.546875 \nQ 18.109375 38.921875 18.109375 30.90625 \nL 18.109375 0 \nL 9.078125 0 \nL 9.078125 54.6875 \nL 18.109375 54.6875 \nL 18.109375 46.1875 \nQ 21.34375 51.125 25.703125 53.5625 \nQ 30.078125 56 35.796875 56 \nQ 45.21875 56 50.046875 50.171875 \nQ 54.890625 44.34375 54.890625 33.015625 \nz\n\" id=\"DejaVuSans-110\"/>\n       <path d=\"M 56.203125 29.59375 \nL 56.203125 25.203125 \nL 14.890625 25.203125 \nQ 15.484375 15.921875 20.484375 11.0625 \nQ 25.484375 6.203125 34.421875 6.203125 \nQ 39.59375 6.203125 44.453125 7.46875 \nQ 49.3125 8.734375 54.109375 11.28125 \nL 54.109375 2.78125 \nQ 49.265625 0.734375 44.1875 -0.34375 \nQ 39.109375 -1.421875 33.890625 -1.421875 \nQ 20.796875 -1.421875 13.15625 6.1875 \nQ 5.515625 13.8125 5.515625 26.8125 \nQ 5.515625 40.234375 12.765625 48.109375 \nQ 20.015625 56 32.328125 56 \nQ 43.359375 56 49.78125 48.890625 \nQ 56.203125 41.796875 56.203125 29.59375 \nz\nM 47.21875 32.234375 \nQ 47.125 39.59375 43.09375 43.984375 \nQ 39.0625 48.390625 32.421875 48.390625 \nQ 24.90625 48.390625 20.390625 44.140625 \nQ 15.875 39.890625 15.1875 32.171875 \nz\n\" id=\"DejaVuSans-101\"/>\n       <path d=\"M 9.421875 54.6875 \nL 18.40625 54.6875 \nL 18.40625 0 \nL 9.421875 0 \nz\nM 9.421875 75.984375 \nL 18.40625 75.984375 \nL 18.40625 64.59375 \nL 9.421875 64.59375 \nz\n\" id=\"DejaVuSans-105\"/>\n       <path d=\"M 45.40625 27.984375 \nQ 45.40625 37.75 41.375 43.109375 \nQ 37.359375 48.484375 30.078125 48.484375 \nQ 22.859375 48.484375 18.828125 43.109375 \nQ 14.796875 37.75 14.796875 27.984375 \nQ 14.796875 18.265625 18.828125 12.890625 \nQ 22.859375 7.515625 30.078125 7.515625 \nQ 37.359375 7.515625 41.375 12.890625 \nQ 45.40625 18.265625 45.40625 27.984375 \nz\nM 54.390625 6.78125 \nQ 54.390625 -7.171875 48.1875 -13.984375 \nQ 42 -20.796875 29.203125 -20.796875 \nQ 24.46875 -20.796875 20.265625 -20.09375 \nQ 16.0625 -19.390625 12.109375 -17.921875 \nL 12.109375 -9.1875 \nQ 16.0625 -11.328125 19.921875 -12.34375 \nQ 23.78125 -13.375 27.78125 -13.375 \nQ 36.625 -13.375 41.015625 -8.765625 \nQ 45.40625 -4.15625 45.40625 5.171875 \nL 45.40625 9.625 \nQ 42.625 4.78125 38.28125 2.390625 \nQ 33.9375 0 27.875 0 \nQ 17.828125 0 11.671875 7.65625 \nQ 5.515625 15.328125 5.515625 27.984375 \nQ 5.515625 40.671875 11.671875 48.328125 \nQ 17.828125 56 27.875 56 \nQ 33.9375 56 38.28125 53.609375 \nQ 42.625 51.21875 45.40625 46.390625 \nL 45.40625 54.6875 \nL 54.390625 54.6875 \nz\n\" id=\"DejaVuSans-103\"/>\n       <path d=\"M 54.890625 33.015625 \nL 54.890625 0 \nL 45.90625 0 \nL 45.90625 32.71875 \nQ 45.90625 40.484375 42.875 44.328125 \nQ 39.84375 48.1875 33.796875 48.1875 \nQ 26.515625 48.1875 22.3125 43.546875 \nQ 18.109375 38.921875 18.109375 30.90625 \nL 18.109375 0 \nL 9.078125 0 \nL 9.078125 75.984375 \nL 18.109375 75.984375 \nL 18.109375 46.1875 \nQ 21.34375 51.125 25.703125 53.5625 \nQ 30.078125 56 35.796875 56 \nQ 45.21875 56 50.046875 50.171875 \nQ 54.890625 44.34375 54.890625 33.015625 \nz\n\" id=\"DejaVuSans-104\"/>\n       <path d=\"M 48.6875 27.296875 \nQ 48.6875 37.203125 44.609375 42.84375 \nQ 40.53125 48.484375 33.40625 48.484375 \nQ 26.265625 48.484375 22.1875 42.84375 \nQ 18.109375 37.203125 18.109375 27.296875 \nQ 18.109375 17.390625 22.1875 11.75 \nQ 26.265625 6.109375 33.40625 6.109375 \nQ 40.53125 6.109375 44.609375 11.75 \nQ 48.6875 17.390625 48.6875 27.296875 \nz\nM 18.109375 46.390625 \nQ 20.953125 51.265625 25.265625 53.625 \nQ 29.59375 56 35.59375 56 \nQ 45.5625 56 51.78125 48.09375 \nQ 58.015625 40.1875 58.015625 27.296875 \nQ 58.015625 14.40625 51.78125 6.484375 \nQ 45.5625 -1.421875 35.59375 -1.421875 \nQ 29.59375 -1.421875 25.265625 0.953125 \nQ 20.953125 3.328125 18.109375 8.203125 \nL 18.109375 0 \nL 9.078125 0 \nL 9.078125 75.984375 \nL 18.109375 75.984375 \nz\n\" id=\"DejaVuSans-98\"/>\n       <path d=\"M 30.609375 48.390625 \nQ 23.390625 48.390625 19.1875 42.75 \nQ 14.984375 37.109375 14.984375 27.296875 \nQ 14.984375 17.484375 19.15625 11.84375 \nQ 23.34375 6.203125 30.609375 6.203125 \nQ 37.796875 6.203125 41.984375 11.859375 \nQ 46.1875 17.53125 46.1875 27.296875 \nQ 46.1875 37.015625 41.984375 42.703125 \nQ 37.796875 48.390625 30.609375 48.390625 \nz\nM 30.609375 56 \nQ 42.328125 56 49.015625 48.375 \nQ 55.71875 40.765625 55.71875 27.296875 \nQ 55.71875 13.875 49.015625 6.21875 \nQ 42.328125 -1.421875 30.609375 -1.421875 \nQ 18.84375 -1.421875 12.171875 6.21875 \nQ 5.515625 13.875 5.515625 27.296875 \nQ 5.515625 40.765625 12.171875 48.375 \nQ 18.84375 56 30.609375 56 \nz\n\" id=\"DejaVuSans-111\"/>\n       <path d=\"M 41.109375 46.296875 \nQ 39.59375 47.171875 37.8125 47.578125 \nQ 36.03125 48 33.890625 48 \nQ 26.265625 48 22.1875 43.046875 \nQ 18.109375 38.09375 18.109375 28.8125 \nL 18.109375 0 \nL 9.078125 0 \nL 9.078125 54.6875 \nL 18.109375 54.6875 \nL 18.109375 46.1875 \nQ 20.953125 51.171875 25.484375 53.578125 \nQ 30.03125 56 36.53125 56 \nQ 37.453125 56 38.578125 55.875 \nQ 39.703125 55.765625 41.0625 55.515625 \nz\n\" id=\"DejaVuSans-114\"/>\n       <path d=\"M 44.28125 53.078125 \nL 44.28125 44.578125 \nQ 40.484375 46.53125 36.375 47.5 \nQ 32.28125 48.484375 27.875 48.484375 \nQ 21.1875 48.484375 17.84375 46.4375 \nQ 14.5 44.390625 14.5 40.28125 \nQ 14.5 37.15625 16.890625 35.375 \nQ 19.28125 33.59375 26.515625 31.984375 \nL 29.59375 31.296875 \nQ 39.15625 29.25 43.1875 25.515625 \nQ 47.21875 21.78125 47.21875 15.09375 \nQ 47.21875 7.46875 41.1875 3.015625 \nQ 35.15625 -1.421875 24.609375 -1.421875 \nQ 20.21875 -1.421875 15.453125 -0.5625 \nQ 10.6875 0.296875 5.421875 2 \nL 5.421875 11.28125 \nQ 10.40625 8.6875 15.234375 7.390625 \nQ 20.0625 6.109375 24.8125 6.109375 \nQ 31.15625 6.109375 34.5625 8.28125 \nQ 37.984375 10.453125 37.984375 14.40625 \nQ 37.984375 18.0625 35.515625 20.015625 \nQ 33.0625 21.96875 24.703125 23.78125 \nL 21.578125 24.515625 \nQ 13.234375 26.265625 9.515625 29.90625 \nQ 5.8125 33.546875 5.8125 39.890625 \nQ 5.8125 47.609375 11.28125 51.796875 \nQ 16.75 56 26.8125 56 \nQ 31.78125 56 36.171875 55.265625 \nQ 40.578125 54.546875 44.28125 53.078125 \nz\n\" id=\"DejaVuSans-115\"/>\n      </defs>\n      <use xlink:href=\"#DejaVuSans-107\"/>\n      <use x=\"57.910156\" xlink:href=\"#DejaVuSans-32\"/>\n      <use x=\"89.697266\" xlink:href=\"#DejaVuSans-110\"/>\n      <use x=\"153.076172\" xlink:href=\"#DejaVuSans-101\"/>\n      <use x=\"214.599609\" xlink:href=\"#DejaVuSans-105\"/>\n      <use x=\"242.382812\" xlink:href=\"#DejaVuSans-103\"/>\n      <use x=\"305.859375\" xlink:href=\"#DejaVuSans-104\"/>\n      <use x=\"369.238281\" xlink:href=\"#DejaVuSans-98\"/>\n      <use x=\"432.714844\" xlink:href=\"#DejaVuSans-111\"/>\n      <use x=\"493.896484\" xlink:href=\"#DejaVuSans-114\"/>\n      <use x=\"535.009766\" xlink:href=\"#DejaVuSans-115\"/>\n     </g>\n    </g>\n   </g>\n   <g id=\"matplotlib.axis_2\">\n    <g id=\"ytick_1\">\n     <g id=\"line2d_8\">\n      <defs>\n       <path d=\"M 0 0 \nL -3.5 0 \n\" id=\"mc9d0ab6e57\" style=\"stroke:#000000;stroke-width:0.8;\"/>\n      </defs>\n      <g>\n       <use style=\"stroke:#000000;stroke-width:0.8;\" x=\"50.14375\" xlink:href=\"#mc9d0ab6e57\" y=\"195.640759\"/>\n      </g>\n     </g>\n     <g id=\"text_9\">\n      <!-- 0.80 -->\n      <g transform=\"translate(20.878125 199.439978)scale(0.1 -0.1)\">\n       <defs>\n        <path d=\"M 10.6875 12.40625 \nL 21 12.40625 \nL 21 0 \nL 10.6875 0 \nz\n\" id=\"DejaVuSans-46\"/>\n        <path d=\"M 31.78125 34.625 \nQ 24.75 34.625 20.71875 30.859375 \nQ 16.703125 27.09375 16.703125 20.515625 \nQ 16.703125 13.921875 20.71875 10.15625 \nQ 24.75 6.390625 31.78125 6.390625 \nQ 38.8125 6.390625 42.859375 10.171875 \nQ 46.921875 13.96875 46.921875 20.515625 \nQ 46.921875 27.09375 42.890625 30.859375 \nQ 38.875 34.625 31.78125 34.625 \nz\nM 21.921875 38.8125 \nQ 15.578125 40.375 12.03125 44.71875 \nQ 8.5 49.078125 8.5 55.328125 \nQ 8.5 64.0625 14.71875 69.140625 \nQ 20.953125 74.21875 31.78125 74.21875 \nQ 42.671875 74.21875 48.875 69.140625 \nQ 55.078125 64.0625 55.078125 55.328125 \nQ 55.078125 49.078125 51.53125 44.71875 \nQ 48 40.375 41.703125 38.8125 \nQ 48.828125 37.15625 52.796875 32.3125 \nQ 56.78125 27.484375 56.78125 20.515625 \nQ 56.78125 9.90625 50.3125 4.234375 \nQ 43.84375 -1.421875 31.78125 -1.421875 \nQ 19.734375 -1.421875 13.25 4.234375 \nQ 6.78125 9.90625 6.78125 20.515625 \nQ 6.78125 27.484375 10.78125 32.3125 \nQ 14.796875 37.15625 21.921875 38.8125 \nz\nM 18.3125 54.390625 \nQ 18.3125 48.734375 21.84375 45.5625 \nQ 25.390625 42.390625 31.78125 42.390625 \nQ 38.140625 42.390625 41.71875 45.5625 \nQ 45.3125 48.734375 45.3125 54.390625 \nQ 45.3125 60.0625 41.71875 63.234375 \nQ 38.140625 66.40625 31.78125 66.40625 \nQ 25.390625 66.40625 21.84375 63.234375 \nQ 18.3125 60.0625 18.3125 54.390625 \nz\n\" id=\"DejaVuSans-56\"/>\n       </defs>\n       <use xlink:href=\"#DejaVuSans-48\"/>\n       <use x=\"63.623047\" xlink:href=\"#DejaVuSans-46\"/>\n       <use x=\"95.410156\" xlink:href=\"#DejaVuSans-56\"/>\n       <use x=\"159.033203\" xlink:href=\"#DejaVuSans-48\"/>\n      </g>\n     </g>\n    </g>\n    <g id=\"ytick_2\">\n     <g id=\"line2d_9\">\n      <g>\n       <use style=\"stroke:#000000;stroke-width:0.8;\" x=\"50.14375\" xlink:href=\"#mc9d0ab6e57\" y=\"151.001479\"/>\n      </g>\n     </g>\n     <g id=\"text_10\">\n      <!-- 0.85 -->\n      <g transform=\"translate(20.878125 154.800697)scale(0.1 -0.1)\">\n       <use xlink:href=\"#DejaVuSans-48\"/>\n       <use x=\"63.623047\" xlink:href=\"#DejaVuSans-46\"/>\n       <use x=\"95.410156\" xlink:href=\"#DejaVuSans-56\"/>\n       <use x=\"159.033203\" xlink:href=\"#DejaVuSans-53\"/>\n      </g>\n     </g>\n    </g>\n    <g id=\"ytick_3\">\n     <g id=\"line2d_10\">\n      <g>\n       <use style=\"stroke:#000000;stroke-width:0.8;\" x=\"50.14375\" xlink:href=\"#mc9d0ab6e57\" y=\"106.362198\"/>\n      </g>\n     </g>\n     <g id=\"text_11\">\n      <!-- 0.90 -->\n      <g transform=\"translate(20.878125 110.161417)scale(0.1 -0.1)\">\n       <defs>\n        <path d=\"M 10.984375 1.515625 \nL 10.984375 10.5 \nQ 14.703125 8.734375 18.5 7.8125 \nQ 22.3125 6.890625 25.984375 6.890625 \nQ 35.75 6.890625 40.890625 13.453125 \nQ 46.046875 20.015625 46.78125 33.40625 \nQ 43.953125 29.203125 39.59375 26.953125 \nQ 35.25 24.703125 29.984375 24.703125 \nQ 19.046875 24.703125 12.671875 31.3125 \nQ 6.296875 37.9375 6.296875 49.421875 \nQ 6.296875 60.640625 12.9375 67.421875 \nQ 19.578125 74.21875 30.609375 74.21875 \nQ 43.265625 74.21875 49.921875 64.515625 \nQ 56.59375 54.828125 56.59375 36.375 \nQ 56.59375 19.140625 48.40625 8.859375 \nQ 40.234375 -1.421875 26.421875 -1.421875 \nQ 22.703125 -1.421875 18.890625 -0.6875 \nQ 15.09375 0.046875 10.984375 1.515625 \nz\nM 30.609375 32.421875 \nQ 37.25 32.421875 41.125 36.953125 \nQ 45.015625 41.5 45.015625 49.421875 \nQ 45.015625 57.28125 41.125 61.84375 \nQ 37.25 66.40625 30.609375 66.40625 \nQ 23.96875 66.40625 20.09375 61.84375 \nQ 16.21875 57.28125 16.21875 49.421875 \nQ 16.21875 41.5 20.09375 36.953125 \nQ 23.96875 32.421875 30.609375 32.421875 \nz\n\" id=\"DejaVuSans-57\"/>\n       </defs>\n       <use xlink:href=\"#DejaVuSans-48\"/>\n       <use x=\"63.623047\" xlink:href=\"#DejaVuSans-46\"/>\n       <use x=\"95.410156\" xlink:href=\"#DejaVuSans-57\"/>\n       <use x=\"159.033203\" xlink:href=\"#DejaVuSans-48\"/>\n      </g>\n     </g>\n    </g>\n    <g id=\"ytick_4\">\n     <g id=\"line2d_11\">\n      <g>\n       <use style=\"stroke:#000000;stroke-width:0.8;\" x=\"50.14375\" xlink:href=\"#mc9d0ab6e57\" y=\"61.722917\"/>\n      </g>\n     </g>\n     <g id=\"text_12\">\n      <!-- 0.95 -->\n      <g transform=\"translate(20.878125 65.522136)scale(0.1 -0.1)\">\n       <use xlink:href=\"#DejaVuSans-48\"/>\n       <use x=\"63.623047\" xlink:href=\"#DejaVuSans-46\"/>\n       <use x=\"95.410156\" xlink:href=\"#DejaVuSans-57\"/>\n       <use x=\"159.033203\" xlink:href=\"#DejaVuSans-53\"/>\n      </g>\n     </g>\n    </g>\n    <g id=\"ytick_5\">\n     <g id=\"line2d_12\">\n      <g>\n       <use style=\"stroke:#000000;stroke-width:0.8;\" x=\"50.14375\" xlink:href=\"#mc9d0ab6e57\" y=\"17.083636\"/>\n      </g>\n     </g>\n     <g id=\"text_13\">\n      <!-- 1.00 -->\n      <g transform=\"translate(20.878125 20.882855)scale(0.1 -0.1)\">\n       <use xlink:href=\"#DejaVuSans-49\"/>\n       <use x=\"63.623047\" xlink:href=\"#DejaVuSans-46\"/>\n       <use x=\"95.410156\" xlink:href=\"#DejaVuSans-48\"/>\n       <use x=\"159.033203\" xlink:href=\"#DejaVuSans-48\"/>\n      </g>\n     </g>\n    </g>\n    <g id=\"text_14\">\n     <!-- Testing accuracy Score -->\n     <g transform=\"translate(14.798438 173.237188)rotate(-90)scale(0.1 -0.1)\">\n      <defs>\n       <path d=\"M -0.296875 72.90625 \nL 61.375 72.90625 \nL 61.375 64.59375 \nL 35.5 64.59375 \nL 35.5 0 \nL 25.59375 0 \nL 25.59375 64.59375 \nL -0.296875 64.59375 \nz\n\" id=\"DejaVuSans-84\"/>\n       <path d=\"M 18.3125 70.21875 \nL 18.3125 54.6875 \nL 36.8125 54.6875 \nL 36.8125 47.703125 \nL 18.3125 47.703125 \nL 18.3125 18.015625 \nQ 18.3125 11.328125 20.140625 9.421875 \nQ 21.96875 7.515625 27.59375 7.515625 \nL 36.8125 7.515625 \nL 36.8125 0 \nL 27.59375 0 \nQ 17.1875 0 13.234375 3.875 \nQ 9.28125 7.765625 9.28125 18.015625 \nL 9.28125 47.703125 \nL 2.6875 47.703125 \nL 2.6875 54.6875 \nL 9.28125 54.6875 \nL 9.28125 70.21875 \nz\n\" id=\"DejaVuSans-116\"/>\n       <path d=\"M 34.28125 27.484375 \nQ 23.390625 27.484375 19.1875 25 \nQ 14.984375 22.515625 14.984375 16.5 \nQ 14.984375 11.71875 18.140625 8.90625 \nQ 21.296875 6.109375 26.703125 6.109375 \nQ 34.1875 6.109375 38.703125 11.40625 \nQ 43.21875 16.703125 43.21875 25.484375 \nL 43.21875 27.484375 \nz\nM 52.203125 31.203125 \nL 52.203125 0 \nL 43.21875 0 \nL 43.21875 8.296875 \nQ 40.140625 3.328125 35.546875 0.953125 \nQ 30.953125 -1.421875 24.3125 -1.421875 \nQ 15.921875 -1.421875 10.953125 3.296875 \nQ 6 8.015625 6 15.921875 \nQ 6 25.140625 12.171875 29.828125 \nQ 18.359375 34.515625 30.609375 34.515625 \nL 43.21875 34.515625 \nL 43.21875 35.40625 \nQ 43.21875 41.609375 39.140625 45 \nQ 35.0625 48.390625 27.6875 48.390625 \nQ 23 48.390625 18.546875 47.265625 \nQ 14.109375 46.140625 10.015625 43.890625 \nL 10.015625 52.203125 \nQ 14.9375 54.109375 19.578125 55.046875 \nQ 24.21875 56 28.609375 56 \nQ 40.484375 56 46.34375 49.84375 \nQ 52.203125 43.703125 52.203125 31.203125 \nz\n\" id=\"DejaVuSans-97\"/>\n       <path d=\"M 48.78125 52.59375 \nL 48.78125 44.1875 \nQ 44.96875 46.296875 41.140625 47.34375 \nQ 37.3125 48.390625 33.40625 48.390625 \nQ 24.65625 48.390625 19.8125 42.84375 \nQ 14.984375 37.3125 14.984375 27.296875 \nQ 14.984375 17.28125 19.8125 11.734375 \nQ 24.65625 6.203125 33.40625 6.203125 \nQ 37.3125 6.203125 41.140625 7.25 \nQ 44.96875 8.296875 48.78125 10.40625 \nL 48.78125 2.09375 \nQ 45.015625 0.34375 40.984375 -0.53125 \nQ 36.96875 -1.421875 32.421875 -1.421875 \nQ 20.0625 -1.421875 12.78125 6.34375 \nQ 5.515625 14.109375 5.515625 27.296875 \nQ 5.515625 40.671875 12.859375 48.328125 \nQ 20.21875 56 33.015625 56 \nQ 37.15625 56 41.109375 55.140625 \nQ 45.0625 54.296875 48.78125 52.59375 \nz\n\" id=\"DejaVuSans-99\"/>\n       <path d=\"M 8.5 21.578125 \nL 8.5 54.6875 \nL 17.484375 54.6875 \nL 17.484375 21.921875 \nQ 17.484375 14.15625 20.5 10.265625 \nQ 23.53125 6.390625 29.59375 6.390625 \nQ 36.859375 6.390625 41.078125 11.03125 \nQ 45.3125 15.671875 45.3125 23.6875 \nL 45.3125 54.6875 \nL 54.296875 54.6875 \nL 54.296875 0 \nL 45.3125 0 \nL 45.3125 8.40625 \nQ 42.046875 3.421875 37.71875 1 \nQ 33.40625 -1.421875 27.6875 -1.421875 \nQ 18.265625 -1.421875 13.375 4.4375 \nQ 8.5 10.296875 8.5 21.578125 \nz\nM 31.109375 56 \nz\n\" id=\"DejaVuSans-117\"/>\n       <path d=\"M 32.171875 -5.078125 \nQ 28.375 -14.84375 24.75 -17.8125 \nQ 21.140625 -20.796875 15.09375 -20.796875 \nL 7.90625 -20.796875 \nL 7.90625 -13.28125 \nL 13.1875 -13.28125 \nQ 16.890625 -13.28125 18.9375 -11.515625 \nQ 21 -9.765625 23.484375 -3.21875 \nL 25.09375 0.875 \nL 2.984375 54.6875 \nL 12.5 54.6875 \nL 29.59375 11.921875 \nL 46.6875 54.6875 \nL 56.203125 54.6875 \nz\n\" id=\"DejaVuSans-121\"/>\n       <path d=\"M 53.515625 70.515625 \nL 53.515625 60.890625 \nQ 47.90625 63.578125 42.921875 64.890625 \nQ 37.9375 66.21875 33.296875 66.21875 \nQ 25.25 66.21875 20.875 63.09375 \nQ 16.5 59.96875 16.5 54.203125 \nQ 16.5 49.359375 19.40625 46.890625 \nQ 22.3125 44.4375 30.421875 42.921875 \nL 36.375 41.703125 \nQ 47.40625 39.59375 52.65625 34.296875 \nQ 57.90625 29 57.90625 20.125 \nQ 57.90625 9.515625 50.796875 4.046875 \nQ 43.703125 -1.421875 29.984375 -1.421875 \nQ 24.8125 -1.421875 18.96875 -0.25 \nQ 13.140625 0.921875 6.890625 3.21875 \nL 6.890625 13.375 \nQ 12.890625 10.015625 18.65625 8.296875 \nQ 24.421875 6.59375 29.984375 6.59375 \nQ 38.421875 6.59375 43.015625 9.90625 \nQ 47.609375 13.234375 47.609375 19.390625 \nQ 47.609375 24.75 44.3125 27.78125 \nQ 41.015625 30.8125 33.5 32.328125 \nL 27.484375 33.5 \nQ 16.453125 35.6875 11.515625 40.375 \nQ 6.59375 45.0625 6.59375 53.421875 \nQ 6.59375 63.09375 13.40625 68.65625 \nQ 20.21875 74.21875 32.171875 74.21875 \nQ 37.3125 74.21875 42.625 73.28125 \nQ 47.953125 72.359375 53.515625 70.515625 \nz\n\" id=\"DejaVuSans-83\"/>\n      </defs>\n      <use xlink:href=\"#DejaVuSans-84\"/>\n      <use x=\"44.083984\" xlink:href=\"#DejaVuSans-101\"/>\n      <use x=\"105.607422\" xlink:href=\"#DejaVuSans-115\"/>\n      <use x=\"157.707031\" xlink:href=\"#DejaVuSans-116\"/>\n      <use x=\"196.916016\" xlink:href=\"#DejaVuSans-105\"/>\n      <use x=\"224.699219\" xlink:href=\"#DejaVuSans-110\"/>\n      <use x=\"288.078125\" xlink:href=\"#DejaVuSans-103\"/>\n      <use x=\"351.554688\" xlink:href=\"#DejaVuSans-32\"/>\n      <use x=\"383.341797\" xlink:href=\"#DejaVuSans-97\"/>\n      <use x=\"444.621094\" xlink:href=\"#DejaVuSans-99\"/>\n      <use x=\"499.601562\" xlink:href=\"#DejaVuSans-99\"/>\n      <use x=\"554.582031\" xlink:href=\"#DejaVuSans-117\"/>\n      <use x=\"617.960938\" xlink:href=\"#DejaVuSans-114\"/>\n      <use x=\"659.074219\" xlink:href=\"#DejaVuSans-97\"/>\n      <use x=\"720.353516\" xlink:href=\"#DejaVuSans-99\"/>\n      <use x=\"775.333984\" xlink:href=\"#DejaVuSans-121\"/>\n      <use x=\"834.513672\" xlink:href=\"#DejaVuSans-32\"/>\n      <use x=\"866.300781\" xlink:href=\"#DejaVuSans-83\"/>\n      <use x=\"929.777344\" xlink:href=\"#DejaVuSans-99\"/>\n      <use x=\"984.757812\" xlink:href=\"#DejaVuSans-111\"/>\n      <use x=\"1045.939453\" xlink:href=\"#DejaVuSans-114\"/>\n      <use x=\"1084.802734\" xlink:href=\"#DejaVuSans-101\"/>\n     </g>\n    </g>\n   </g>\n   <g id=\"line2d_13\">\n    <path clip-path=\"url(#p16c6ab20e2)\" d=\"M 65.361932 17.083636 \nL 87.102192 69.217103 \nL 108.842451 88.767153 \nL 130.582711 121.350569 \nL 152.322971 136.556164 \nL 174.063231 156.106214 \nL 195.80349 180.000719 \nL 217.54375 193.034086 \nL 239.28401 199.550769 \nL 261.024269 201.722997 \nL 282.764529 206.067453 \nL 304.504789 210.411908 \nL 326.245049 212.584136 \nL 347.985308 214.756364 \nL 369.725568 214.756364 \n\" style=\"fill:none;stroke:#1f77b4;stroke-linecap:square;stroke-width:1.5;\"/>\n    <defs>\n     <path d=\"M 0 3 \nC 0.795609 3 1.55874 2.683901 2.12132 2.12132 \nC 2.683901 1.55874 3 0.795609 3 0 \nC 3 -0.795609 2.683901 -1.55874 2.12132 -2.12132 \nC 1.55874 -2.683901 0.795609 -3 0 -3 \nC -0.795609 -3 -1.55874 -2.683901 -2.12132 -2.12132 \nC -2.683901 -1.55874 -3 -0.795609 -3 0 \nC -3 0.795609 -2.683901 1.55874 -2.12132 2.12132 \nC -1.55874 2.683901 -0.795609 3 0 3 \nz\n\" id=\"m59c5732927\" style=\"stroke:#1f77b4;\"/>\n    </defs>\n    <g clip-path=\"url(#p16c6ab20e2)\">\n     <use style=\"fill:#1f77b4;stroke:#1f77b4;\" x=\"65.361932\" xlink:href=\"#m59c5732927\" y=\"17.083636\"/>\n     <use style=\"fill:#1f77b4;stroke:#1f77b4;\" x=\"87.102192\" xlink:href=\"#m59c5732927\" y=\"69.217103\"/>\n     <use style=\"fill:#1f77b4;stroke:#1f77b4;\" x=\"108.842451\" xlink:href=\"#m59c5732927\" y=\"88.767153\"/>\n     <use style=\"fill:#1f77b4;stroke:#1f77b4;\" x=\"130.582711\" xlink:href=\"#m59c5732927\" y=\"121.350569\"/>\n     <use style=\"fill:#1f77b4;stroke:#1f77b4;\" x=\"152.322971\" xlink:href=\"#m59c5732927\" y=\"136.556164\"/>\n     <use style=\"fill:#1f77b4;stroke:#1f77b4;\" x=\"174.063231\" xlink:href=\"#m59c5732927\" y=\"156.106214\"/>\n     <use style=\"fill:#1f77b4;stroke:#1f77b4;\" x=\"195.80349\" xlink:href=\"#m59c5732927\" y=\"180.000719\"/>\n     <use style=\"fill:#1f77b4;stroke:#1f77b4;\" x=\"217.54375\" xlink:href=\"#m59c5732927\" y=\"193.034086\"/>\n     <use style=\"fill:#1f77b4;stroke:#1f77b4;\" x=\"239.28401\" xlink:href=\"#m59c5732927\" y=\"199.550769\"/>\n     <use style=\"fill:#1f77b4;stroke:#1f77b4;\" x=\"261.024269\" xlink:href=\"#m59c5732927\" y=\"201.722997\"/>\n     <use style=\"fill:#1f77b4;stroke:#1f77b4;\" x=\"282.764529\" xlink:href=\"#m59c5732927\" y=\"206.067453\"/>\n     <use style=\"fill:#1f77b4;stroke:#1f77b4;\" x=\"304.504789\" xlink:href=\"#m59c5732927\" y=\"210.411908\"/>\n     <use style=\"fill:#1f77b4;stroke:#1f77b4;\" x=\"326.245049\" xlink:href=\"#m59c5732927\" y=\"212.584136\"/>\n     <use style=\"fill:#1f77b4;stroke:#1f77b4;\" x=\"347.985308\" xlink:href=\"#m59c5732927\" y=\"214.756364\"/>\n     <use style=\"fill:#1f77b4;stroke:#1f77b4;\" x=\"369.725568\" xlink:href=\"#m59c5732927\" y=\"214.756364\"/>\n    </g>\n   </g>\n   <g id=\"line2d_14\">\n    <path clip-path=\"url(#p16c6ab20e2)\" d=\"M 65.361932 68.839324 \nL 87.102192 101.186629 \nL 108.842451 114.125551 \nL 130.582711 133.533934 \nL 152.322971 133.533934 \nL 174.063231 133.533934 \nL 195.80349 159.411778 \nL 217.54375 159.411778 \nL 239.28401 178.820161 \nL 261.024269 178.820161 \nL 282.764529 178.820161 \nL 304.504789 178.820161 \nL 326.245049 178.820161 \nL 347.985308 178.820161 \nL 369.725568 178.820161 \n\" style=\"fill:none;stroke:#ff7f0e;stroke-linecap:square;stroke-width:1.5;\"/>\n    <defs>\n     <path d=\"M -3 3 \nL 3 -3 \nM -3 -3 \nL 3 3 \n\" id=\"mb4586682fd\" style=\"stroke:#ff7f0e;\"/>\n    </defs>\n    <g clip-path=\"url(#p16c6ab20e2)\">\n     <use style=\"fill:#ff7f0e;stroke:#ff7f0e;\" x=\"65.361932\" xlink:href=\"#mb4586682fd\" y=\"68.839324\"/>\n     <use style=\"fill:#ff7f0e;stroke:#ff7f0e;\" x=\"87.102192\" xlink:href=\"#mb4586682fd\" y=\"101.186629\"/>\n     <use style=\"fill:#ff7f0e;stroke:#ff7f0e;\" x=\"108.842451\" xlink:href=\"#mb4586682fd\" y=\"114.125551\"/>\n     <use style=\"fill:#ff7f0e;stroke:#ff7f0e;\" x=\"130.582711\" xlink:href=\"#mb4586682fd\" y=\"133.533934\"/>\n     <use style=\"fill:#ff7f0e;stroke:#ff7f0e;\" x=\"152.322971\" xlink:href=\"#mb4586682fd\" y=\"133.533934\"/>\n     <use style=\"fill:#ff7f0e;stroke:#ff7f0e;\" x=\"174.063231\" xlink:href=\"#mb4586682fd\" y=\"133.533934\"/>\n     <use style=\"fill:#ff7f0e;stroke:#ff7f0e;\" x=\"195.80349\" xlink:href=\"#mb4586682fd\" y=\"159.411778\"/>\n     <use style=\"fill:#ff7f0e;stroke:#ff7f0e;\" x=\"217.54375\" xlink:href=\"#mb4586682fd\" y=\"159.411778\"/>\n     <use style=\"fill:#ff7f0e;stroke:#ff7f0e;\" x=\"239.28401\" xlink:href=\"#mb4586682fd\" y=\"178.820161\"/>\n     <use style=\"fill:#ff7f0e;stroke:#ff7f0e;\" x=\"261.024269\" xlink:href=\"#mb4586682fd\" y=\"178.820161\"/>\n     <use style=\"fill:#ff7f0e;stroke:#ff7f0e;\" x=\"282.764529\" xlink:href=\"#mb4586682fd\" y=\"178.820161\"/>\n     <use style=\"fill:#ff7f0e;stroke:#ff7f0e;\" x=\"304.504789\" xlink:href=\"#mb4586682fd\" y=\"178.820161\"/>\n     <use style=\"fill:#ff7f0e;stroke:#ff7f0e;\" x=\"326.245049\" xlink:href=\"#mb4586682fd\" y=\"178.820161\"/>\n     <use style=\"fill:#ff7f0e;stroke:#ff7f0e;\" x=\"347.985308\" xlink:href=\"#mb4586682fd\" y=\"178.820161\"/>\n     <use style=\"fill:#ff7f0e;stroke:#ff7f0e;\" x=\"369.725568\" xlink:href=\"#mb4586682fd\" y=\"178.820161\"/>\n    </g>\n   </g>\n   <g id=\"patch_3\">\n    <path d=\"M 50.14375 224.64 \nL 50.14375 7.2 \n\" style=\"fill:none;stroke:#000000;stroke-linecap:square;stroke-linejoin:miter;stroke-width:0.8;\"/>\n   </g>\n   <g id=\"patch_4\">\n    <path d=\"M 384.94375 224.64 \nL 384.94375 7.2 \n\" style=\"fill:none;stroke:#000000;stroke-linecap:square;stroke-linejoin:miter;stroke-width:0.8;\"/>\n   </g>\n   <g id=\"patch_5\">\n    <path d=\"M 50.14375 224.64 \nL 384.94375 224.64 \n\" style=\"fill:none;stroke:#000000;stroke-linecap:square;stroke-linejoin:miter;stroke-width:0.8;\"/>\n   </g>\n   <g id=\"patch_6\">\n    <path d=\"M 50.14375 7.2 \nL 384.94375 7.2 \n\" style=\"fill:none;stroke:#000000;stroke-linecap:square;stroke-linejoin:miter;stroke-width:0.8;\"/>\n   </g>\n  </g>\n </g>\n <defs>\n  <clipPath id=\"p16c6ab20e2\">\n   <rect height=\"217.44\" width=\"334.8\" x=\"50.14375\" y=\"7.2\"/>\n  </clipPath>\n </defs>\n</svg>\n",
      "image/png": "[encoded data removed]"
     },
     "metadata": {
      "needs_background": "light"
     }
    }
   ],
   "source": [
    "from sklearn.neighbors import KNeighborsClassifier\n",
    "# Loop through different k values to see which has the highest accuracy\n",
    "# Note: We only use odd numbers because we don't want any ties\n",
    "train_scores = []\n",
    "test_scores = []\n",
    "for k in range(1, 30, 2):\n",
    "    knn = KNeighborsClassifier(n_neighbors=k)\n",
    "    knn.fit(X_train_minmax, y_train)\n",
    "    train_score = knn.score(X_train_minmax, y_train)\n",
    "    test_score = knn.score(X_test_minmax, y_test)\n",
    "    train_scores.append(train_score)\n",
    "    test_scores.append(test_score)\n",
    "    print(f\"k: {k}, Train/Test Score: {train_score:.3f}/{test_score:.3f}\")\n",
    "    \n",
    "    \n",
    "plt.plot(range(1, 30, 2), train_scores, marker='o')\n",
    "plt.plot(range(1, 30, 2), test_scores, marker=\"x\")\n",
    "plt.xlabel(\"k neighbors\")\n",
    "plt.ylabel(\"Testing accuracy Score\")\n",
    "plt.show()"
   ]
  },
  {
   "cell_type": "code",
   "execution_count": 11,
   "metadata": {},
   "outputs": [
    {
     "output_type": "stream",
     "name": "stdout",
     "text": [
      "k=19 Train Acc: 0.793\nk=19 Test Acc: 0.819\n"
     ]
    }
   ],
   "source": [
    "# Note that k: 19 seems to be the best choice for this dataset\n",
    "knn = KNeighborsClassifier(n_neighbors=19)\n",
    "knn.fit(X_train_minmax, y_train)\n",
    "print('k=19 Train Acc: %.3f' % knn.score(X_train_minmax, y_train))\n",
    "print('k=19 Test Acc: %.3f' % knn.score(X_test_minmax, y_test))"
   ]
  },
  {
   "cell_type": "code",
   "execution_count": 12,
   "metadata": {},
   "outputs": [
    {
     "output_type": "execute_result",
     "data": {
      "text/plain": [
       "{'algorithm': 'auto',\n",
       " 'leaf_size': 30,\n",
       " 'metric': 'minkowski',\n",
       " 'metric_params': None,\n",
       " 'n_jobs': None,\n",
       " 'n_neighbors': 19,\n",
       " 'p': 2,\n",
       " 'weights': 'uniform'}"
      ]
     },
     "metadata": {},
     "execution_count": 12
    }
   ],
   "source": [
    "knn.get_params()"
   ]
  },
  {
   "cell_type": "code",
   "execution_count": 13,
   "metadata": {
    "tags": [
     "outputPrepend"
    ]
   },
   "outputs": [
    {
     "output_type": "stream",
     "name": "stdout",
     "text": [
      "e=   0.0s\n",
      "[CV 1/5] END metric=manhattan, n_neighbors=13, weights=uniform; total time=   0.0s\n",
      "[CV 2/5] END metric=manhattan, n_neighbors=13, weights=uniform; total time=   0.0s\n",
      "[CV 3/5] END metric=manhattan, n_neighbors=13, weights=uniform; total time=   0.0s\n",
      "[CV 4/5] END metric=manhattan, n_neighbors=13, weights=uniform; total time=   0.0s\n",
      "[CV 5/5] END metric=manhattan, n_neighbors=13, weights=uniform; total time=   0.0s\n",
      "[CV 1/5] END metric=manhattan, n_neighbors=13, weights=distance; total time=   0.0s\n",
      "[CV 2/5] END metric=manhattan, n_neighbors=13, weights=distance; total time=   0.0s\n",
      "[CV 3/5] END metric=manhattan, n_neighbors=13, weights=distance; total time=   0.0s\n",
      "[CV 4/5] END metric=manhattan, n_neighbors=13, weights=distance; total time=   0.0s\n",
      "[CV 5/5] END metric=manhattan, n_neighbors=13, weights=distance; total time=   0.0s\n",
      "[CV 1/5] END metric=manhattan, n_neighbors=15, weights=uniform; total time=   0.0s\n",
      "[CV 2/5] END metric=manhattan, n_neighbors=15, weights=uniform; total time=   0.0s\n",
      "[CV 3/5] END metric=manhattan, n_neighbors=15, weights=uniform; total time=   0.0s\n",
      "[CV 4/5] END metric=manhattan, n_neighbors=15, weights=uniform; total time=   0.0s\n",
      "[CV 5/5] END metric=manhattan, n_neighbors=15, weights=uniform; total time=   0.0s\n",
      "[CV 1/5] END metric=manhattan, n_neighbors=15, weights=distance; total time=   0.0s\n",
      "[CV 2/5] END metric=manhattan, n_neighbors=15, weights=distance; total time=   0.0s\n",
      "[CV 3/5] END metric=manhattan, n_neighbors=15, weights=distance; total time=   0.0s\n",
      "[CV 4/5] END metric=manhattan, n_neighbors=15, weights=distance; total time=   0.0s\n",
      "[CV 5/5] END metric=manhattan, n_neighbors=15, weights=distance; total time=   0.0s\n",
      "[CV 1/5] END metric=manhattan, n_neighbors=17, weights=uniform; total time=   0.0s\n",
      "[CV 2/5] END metric=manhattan, n_neighbors=17, weights=uniform; total time=   0.0s\n",
      "[CV 3/5] END metric=manhattan, n_neighbors=17, weights=uniform; total time=   0.0s\n",
      "[CV 4/5] END metric=manhattan, n_neighbors=17, weights=uniform; total time=   0.0s\n",
      "[CV 5/5] END metric=manhattan, n_neighbors=17, weights=uniform; total time=   0.0s\n",
      "[CV 1/5] END metric=manhattan, n_neighbors=17, weights=distance; total time=   0.0s\n",
      "[CV 2/5] END metric=manhattan, n_neighbors=17, weights=distance; total time=   0.0s\n",
      "[CV 3/5] END metric=manhattan, n_neighbors=17, weights=distance; total time=   0.0s\n",
      "[CV 4/5] END metric=manhattan, n_neighbors=17, weights=distance; total time=   0.0s\n",
      "[CV 5/5] END metric=manhattan, n_neighbors=17, weights=distance; total time=   0.0s\n",
      "[CV 1/5] END metric=manhattan, n_neighbors=19, weights=uniform; total time=   0.0s\n",
      "[CV 2/5] END metric=manhattan, n_neighbors=19, weights=uniform; total time=   0.0s\n",
      "[CV 3/5] END metric=manhattan, n_neighbors=19, weights=uniform; total time=   0.0s\n",
      "[CV 4/5] END metric=manhattan, n_neighbors=19, weights=uniform; total time=   0.0s\n",
      "[CV 5/5] END metric=manhattan, n_neighbors=19, weights=uniform; total time=   0.0s\n",
      "[CV 1/5] END metric=manhattan, n_neighbors=19, weights=distance; total time=   0.0s\n",
      "[CV 2/5] END metric=manhattan, n_neighbors=19, weights=distance; total time=   0.0s\n",
      "[CV 3/5] END metric=manhattan, n_neighbors=19, weights=distance; total time=   0.0s\n",
      "[CV 4/5] END metric=manhattan, n_neighbors=19, weights=distance; total time=   0.0s\n",
      "[CV 5/5] END metric=manhattan, n_neighbors=19, weights=distance; total time=   0.0s\n",
      "[CV 1/5] END metric=manhattan, n_neighbors=21, weights=uniform; total time=   0.0s\n",
      "[CV 2/5] END metric=manhattan, n_neighbors=21, weights=uniform; total time=   0.0s\n",
      "[CV 3/5] END metric=manhattan, n_neighbors=21, weights=uniform; total time=   0.0s\n",
      "[CV 4/5] END metric=manhattan, n_neighbors=21, weights=uniform; total time=   0.0s\n",
      "[CV 5/5] END metric=manhattan, n_neighbors=21, weights=uniform; total time=   0.0s\n",
      "[CV 1/5] END metric=manhattan, n_neighbors=21, weights=distance; total time=   0.0s\n",
      "[CV 2/5] END metric=manhattan, n_neighbors=21, weights=distance; total time=   0.0s\n",
      "[CV 3/5] END metric=manhattan, n_neighbors=21, weights=distance; total time=   0.0s\n",
      "[CV 4/5] END metric=manhattan, n_neighbors=21, weights=distance; total time=   0.0s\n",
      "[CV 5/5] END metric=manhattan, n_neighbors=21, weights=distance; total time=   0.0s\n",
      "[CV 1/5] END metric=manhattan, n_neighbors=23, weights=uniform; total time=   0.0s\n",
      "[CV 2/5] END metric=manhattan, n_neighbors=23, weights=uniform; total time=   0.0s\n",
      "[CV 3/5] END metric=manhattan, n_neighbors=23, weights=uniform; total time=   0.0s\n",
      "[CV 4/5] END metric=manhattan, n_neighbors=23, weights=uniform; total time=   0.0s\n",
      "[CV 5/5] END metric=manhattan, n_neighbors=23, weights=uniform; total time=   0.0s\n",
      "[CV 1/5] END metric=manhattan, n_neighbors=23, weights=distance; total time=   0.0s\n",
      "[CV 2/5] END metric=manhattan, n_neighbors=23, weights=distance; total time=   0.0s\n",
      "[CV 3/5] END metric=manhattan, n_neighbors=23, weights=distance; total time=   0.0s\n",
      "[CV 4/5] END metric=manhattan, n_neighbors=23, weights=distance; total time=   0.0s\n",
      "[CV 5/5] END metric=manhattan, n_neighbors=23, weights=distance; total time=   0.0s\n",
      "[CV 1/5] END metric=manhattan, n_neighbors=25, weights=uniform; total time=   0.0s\n",
      "[CV 2/5] END metric=manhattan, n_neighbors=25, weights=uniform; total time=   0.0s\n",
      "[CV 3/5] END metric=manhattan, n_neighbors=25, weights=uniform; total time=   0.0s\n",
      "[CV 4/5] END metric=manhattan, n_neighbors=25, weights=uniform; total time=   0.0s\n",
      "[CV 5/5] END metric=manhattan, n_neighbors=25, weights=uniform; total time=   0.0s\n",
      "[CV 1/5] END metric=manhattan, n_neighbors=25, weights=distance; total time=   0.0s\n",
      "[CV 2/5] END metric=manhattan, n_neighbors=25, weights=distance; total time=   0.0s\n",
      "[CV 3/5] END metric=manhattan, n_neighbors=25, weights=distance; total time=   0.0s\n",
      "[CV 4/5] END metric=manhattan, n_neighbors=25, weights=distance; total time=   0.0s\n",
      "[CV 5/5] END metric=manhattan, n_neighbors=25, weights=distance; total time=   0.0s\n",
      "[CV 1/5] END metric=manhattan, n_neighbors=27, weights=uniform; total time=   0.0s\n",
      "[CV 2/5] END metric=manhattan, n_neighbors=27, weights=uniform; total time=   0.0s\n",
      "[CV 3/5] END metric=manhattan, n_neighbors=27, weights=uniform; total time=   0.0s\n",
      "[CV 4/5] END metric=manhattan, n_neighbors=27, weights=uniform; total time=   0.0s\n",
      "[CV 5/5] END metric=manhattan, n_neighbors=27, weights=uniform; total time=   0.0s\n",
      "[CV 1/5] END metric=manhattan, n_neighbors=27, weights=distance; total time=   0.0s\n",
      "[CV 2/5] END metric=manhattan, n_neighbors=27, weights=distance; total time=   0.0s\n",
      "[CV 3/5] END metric=manhattan, n_neighbors=27, weights=distance; total time=   0.0s\n",
      "[CV 4/5] END metric=manhattan, n_neighbors=27, weights=distance; total time=   0.0s\n",
      "[CV 5/5] END metric=manhattan, n_neighbors=27, weights=distance; total time=   0.0s\n",
      "[CV 1/5] END metric=manhattan, n_neighbors=29, weights=uniform; total time=   0.0s\n",
      "[CV 2/5] END metric=manhattan, n_neighbors=29, weights=uniform; total time=   0.0s\n",
      "[CV 3/5] END metric=manhattan, n_neighbors=29, weights=uniform; total time=   0.0s\n",
      "[CV 4/5] END metric=manhattan, n_neighbors=29, weights=uniform; total time=   0.0s\n",
      "[CV 5/5] END metric=manhattan, n_neighbors=29, weights=uniform; total time=   0.0s\n",
      "[CV 1/5] END metric=manhattan, n_neighbors=29, weights=distance; total time=   0.0s\n",
      "[CV 2/5] END metric=manhattan, n_neighbors=29, weights=distance; total time=   0.0s\n",
      "[CV 3/5] END metric=manhattan, n_neighbors=29, weights=distance; total time=   0.0s\n",
      "[CV 4/5] END metric=manhattan, n_neighbors=29, weights=distance; total time=   0.0s\n",
      "[CV 5/5] END metric=manhattan, n_neighbors=29, weights=distance; total time=   0.0s\n",
      "[CV 1/5] END metric=minkowski, n_neighbors=1, weights=uniform; total time=   0.0s\n",
      "[CV 2/5] END metric=minkowski, n_neighbors=1, weights=uniform; total time=   0.0s\n",
      "[CV 3/5] END metric=minkowski, n_neighbors=1, weights=uniform; total time=   0.0s\n",
      "[CV 4/5] END metric=minkowski, n_neighbors=1, weights=uniform; total time=   0.0s\n",
      "[CV 5/5] END metric=minkowski, n_neighbors=1, weights=uniform; total time=   0.0s\n",
      "[CV 1/5] END metric=minkowski, n_neighbors=1, weights=distance; total time=   0.0s\n",
      "[CV 2/5] END metric=minkowski, n_neighbors=1, weights=distance; total time=   0.0s\n",
      "[CV 3/5] END metric=minkowski, n_neighbors=1, weights=distance; total time=   0.0s\n",
      "[CV 4/5] END metric=minkowski, n_neighbors=1, weights=distance; total time=   0.0s\n",
      "[CV 5/5] END metric=minkowski, n_neighbors=1, weights=distance; total time=   0.0s\n",
      "[CV 1/5] END metric=minkowski, n_neighbors=3, weights=uniform; total time=   0.0s\n",
      "[CV 2/5] END metric=minkowski, n_neighbors=3, weights=uniform; total time=   0.0s\n",
      "[CV 3/5] END metric=minkowski, n_neighbors=3, weights=uniform; total time=   0.0s\n",
      "[CV 4/5] END metric=minkowski, n_neighbors=3, weights=uniform; total time=   0.0s\n",
      "[CV 5/5] END metric=minkowski, n_neighbors=3, weights=uniform; total time=   0.0s\n",
      "[CV 1/5] END metric=minkowski, n_neighbors=3, weights=distance; total time=   0.0s\n",
      "[CV 2/5] END metric=minkowski, n_neighbors=3, weights=distance; total time=   0.0s\n",
      "[CV 3/5] END metric=minkowski, n_neighbors=3, weights=distance; total time=   0.0s\n",
      "[CV 4/5] END metric=minkowski, n_neighbors=3, weights=distance; total time=   0.0s\n",
      "[CV 5/5] END metric=minkowski, n_neighbors=3, weights=distance; total time=   0.0s\n",
      "[CV 1/5] END metric=minkowski, n_neighbors=5, weights=uniform; total time=   0.0s\n",
      "[CV 2/5] END metric=minkowski, n_neighbors=5, weights=uniform; total time=   0.0s\n",
      "[CV 3/5] END metric=minkowski, n_neighbors=5, weights=uniform; total time=   0.0s\n",
      "[CV 4/5] END metric=minkowski, n_neighbors=5, weights=uniform; total time=   0.0s\n",
      "[CV 5/5] END metric=minkowski, n_neighbors=5, weights=uniform; total time=   0.0s\n",
      "[CV 1/5] END metric=minkowski, n_neighbors=5, weights=distance; total time=   0.0s\n",
      "[CV 2/5] END metric=minkowski, n_neighbors=5, weights=distance; total time=   0.0s\n",
      "[CV 3/5] END metric=minkowski, n_neighbors=5, weights=distance; total time=   0.0s\n",
      "[CV 4/5] END metric=minkowski, n_neighbors=5, weights=distance; total time=   0.0s\n",
      "[CV 5/5] END metric=minkowski, n_neighbors=5, weights=distance; total time=   0.0s\n",
      "[CV 1/5] END metric=minkowski, n_neighbors=7, weights=uniform; total time=   0.0s\n",
      "[CV 2/5] END metric=minkowski, n_neighbors=7, weights=uniform; total time=   0.0s\n",
      "[CV 3/5] END metric=minkowski, n_neighbors=7, weights=uniform; total time=   0.0s\n",
      "[CV 4/5] END metric=minkowski, n_neighbors=7, weights=uniform; total time=   0.0s\n",
      "[CV 5/5] END metric=minkowski, n_neighbors=7, weights=uniform; total time=   0.0s\n",
      "[CV 1/5] END metric=minkowski, n_neighbors=7, weights=distance; total time=   0.0s\n",
      "[CV 2/5] END metric=minkowski, n_neighbors=7, weights=distance; total time=   0.0s\n",
      "[CV 3/5] END metric=minkowski, n_neighbors=7, weights=distance; total time=   0.0s\n",
      "[CV 4/5] END metric=minkowski, n_neighbors=7, weights=distance; total time=   0.0s\n",
      "[CV 5/5] END metric=minkowski, n_neighbors=7, weights=distance; total time=   0.0s\n",
      "[CV 1/5] END metric=minkowski, n_neighbors=9, weights=uniform; total time=   0.0s\n",
      "[CV 2/5] END metric=minkowski, n_neighbors=9, weights=uniform; total time=   0.0s\n",
      "[CV 3/5] END metric=minkowski, n_neighbors=9, weights=uniform; total time=   0.0s\n",
      "[CV 4/5] END metric=minkowski, n_neighbors=9, weights=uniform; total time=   0.0s\n",
      "[CV 5/5] END metric=minkowski, n_neighbors=9, weights=uniform; total time=   0.0s\n",
      "[CV 1/5] END metric=minkowski, n_neighbors=9, weights=distance; total time=   0.0s\n",
      "[CV 2/5] END metric=minkowski, n_neighbors=9, weights=distance; total time=   0.0s\n",
      "[CV 3/5] END metric=minkowski, n_neighbors=9, weights=distance; total time=   0.0s\n",
      "[CV 4/5] END metric=minkowski, n_neighbors=9, weights=distance; total time=   0.0s\n",
      "[CV 5/5] END metric=minkowski, n_neighbors=9, weights=distance; total time=   0.0s\n",
      "[CV 1/5] END metric=minkowski, n_neighbors=11, weights=uniform; total time=   0.0s\n",
      "[CV 2/5] END metric=minkowski, n_neighbors=11, weights=uniform; total time=   0.0s\n",
      "[CV 3/5] END metric=minkowski, n_neighbors=11, weights=uniform; total time=   0.0s\n",
      "[CV 4/5] END metric=minkowski, n_neighbors=11, weights=uniform; total time=   0.0s\n",
      "[CV 5/5] END metric=minkowski, n_neighbors=11, weights=uniform; total time=   0.0s\n",
      "[CV 1/5] END metric=minkowski, n_neighbors=11, weights=distance; total time=   0.0s\n",
      "[CV 2/5] END metric=minkowski, n_neighbors=11, weights=distance; total time=   0.0s\n",
      "[CV 3/5] END metric=minkowski, n_neighbors=11, weights=distance; total time=   0.0s\n",
      "[CV 4/5] END metric=minkowski, n_neighbors=11, weights=distance; total time=   0.0s\n",
      "[CV 5/5] END metric=minkowski, n_neighbors=11, weights=distance; total time=   0.0s\n",
      "[CV 1/5] END metric=minkowski, n_neighbors=13, weights=uniform; total time=   0.0s\n",
      "[CV 2/5] END metric=minkowski, n_neighbors=13, weights=uniform; total time=   0.0s\n",
      "[CV 3/5] END metric=minkowski, n_neighbors=13, weights=uniform; total time=   0.0s\n",
      "[CV 4/5] END metric=minkowski, n_neighbors=13, weights=uniform; total time=   0.0s\n",
      "[CV 5/5] END metric=minkowski, n_neighbors=13, weights=uniform; total time=   0.0s\n",
      "[CV 1/5] END metric=minkowski, n_neighbors=13, weights=distance; total time=   0.0s\n",
      "[CV 2/5] END metric=minkowski, n_neighbors=13, weights=distance; total time=   0.0s\n",
      "[CV 3/5] END metric=minkowski, n_neighbors=13, weights=distance; total time=   0.0s\n",
      "[CV 4/5] END metric=minkowski, n_neighbors=13, weights=distance; total time=   0.0s\n",
      "[CV 5/5] END metric=minkowski, n_neighbors=13, weights=distance; total time=   0.0s\n",
      "[CV 1/5] END metric=minkowski, n_neighbors=15, weights=uniform; total time=   0.0s\n",
      "[CV 2/5] END metric=minkowski, n_neighbors=15, weights=uniform; total time=   0.0s\n",
      "[CV 3/5] END metric=minkowski, n_neighbors=15, weights=uniform; total time=   0.0s\n",
      "[CV 4/5] END metric=minkowski, n_neighbors=15, weights=uniform; total time=   0.0s\n",
      "[CV 5/5] END metric=minkowski, n_neighbors=15, weights=uniform; total time=   0.0s\n",
      "[CV 1/5] END metric=minkowski, n_neighbors=15, weights=distance; total time=   0.0s\n",
      "[CV 2/5] END metric=minkowski, n_neighbors=15, weights=distance; total time=   0.0s\n",
      "[CV 3/5] END metric=minkowski, n_neighbors=15, weights=distance; total time=   0.0s\n",
      "[CV 4/5] END metric=minkowski, n_neighbors=15, weights=distance; total time=   0.0s\n",
      "[CV 5/5] END metric=minkowski, n_neighbors=15, weights=distance; total time=   0.0s\n",
      "[CV 1/5] END metric=minkowski, n_neighbors=17, weights=uniform; total time=   0.0s\n",
      "[CV 2/5] END metric=minkowski, n_neighbors=17, weights=uniform; total time=   0.0s\n",
      "[CV 3/5] END metric=minkowski, n_neighbors=17, weights=uniform; total time=   0.0s\n",
      "[CV 4/5] END metric=minkowski, n_neighbors=17, weights=uniform; total time=   0.0s\n",
      "[CV 5/5] END metric=minkowski, n_neighbors=17, weights=uniform; total time=   0.0s\n",
      "[CV 1/5] END metric=minkowski, n_neighbors=17, weights=distance; total time=   0.0s\n",
      "[CV 2/5] END metric=minkowski, n_neighbors=17, weights=distance; total time=   0.0s\n",
      "[CV 3/5] END metric=minkowski, n_neighbors=17, weights=distance; total time=   0.0s\n",
      "[CV 4/5] END metric=minkowski, n_neighbors=17, weights=distance; total time=   0.0s\n",
      "[CV 5/5] END metric=minkowski, n_neighbors=17, weights=distance; total time=   0.0s\n",
      "[CV 1/5] END metric=minkowski, n_neighbors=19, weights=uniform; total time=   0.0s\n",
      "[CV 2/5] END metric=minkowski, n_neighbors=19, weights=uniform; total time=   0.0s\n",
      "[CV 3/5] END metric=minkowski, n_neighbors=19, weights=uniform; total time=   0.0s\n",
      "[CV 4/5] END metric=minkowski, n_neighbors=19, weights=uniform; total time=   0.0s\n",
      "[CV 5/5] END metric=minkowski, n_neighbors=19, weights=uniform; total time=   0.0s\n",
      "[CV 1/5] END metric=minkowski, n_neighbors=19, weights=distance; total time=   0.0s\n",
      "[CV 2/5] END metric=minkowski, n_neighbors=19, weights=distance; total time=   0.0s\n",
      "[CV 3/5] END metric=minkowski, n_neighbors=19, weights=distance; total time=   0.0s\n",
      "[CV 4/5] END metric=minkowski, n_neighbors=19, weights=distance; total time=   0.0s\n",
      "[CV 5/5] END metric=minkowski, n_neighbors=19, weights=distance; total time=   0.0s\n",
      "[CV 1/5] END metric=minkowski, n_neighbors=21, weights=uniform; total time=   0.0s\n",
      "[CV 2/5] END metric=minkowski, n_neighbors=21, weights=uniform; total time=   0.0s\n",
      "[CV 3/5] END metric=minkowski, n_neighbors=21, weights=uniform; total time=   0.0s\n",
      "[CV 4/5] END metric=minkowski, n_neighbors=21, weights=uniform; total time=   0.0s\n",
      "[CV 5/5] END metric=minkowski, n_neighbors=21, weights=uniform; total time=   0.0s\n",
      "[CV 1/5] END metric=minkowski, n_neighbors=21, weights=distance; total time=   0.0s\n",
      "[CV 2/5] END metric=minkowski, n_neighbors=21, weights=distance; total time=   0.0s\n",
      "[CV 3/5] END metric=minkowski, n_neighbors=21, weights=distance; total time=   0.0s\n",
      "[CV 4/5] END metric=minkowski, n_neighbors=21, weights=distance; total time=   0.0s\n",
      "[CV 5/5] END metric=minkowski, n_neighbors=21, weights=distance; total time=   0.0s\n",
      "[CV 1/5] END metric=minkowski, n_neighbors=23, weights=uniform; total time=   0.0s\n",
      "[CV 2/5] END metric=minkowski, n_neighbors=23, weights=uniform; total time=   0.0s\n",
      "[CV 3/5] END metric=minkowski, n_neighbors=23, weights=uniform; total time=   0.0s\n",
      "[CV 4/5] END metric=minkowski, n_neighbors=23, weights=uniform; total time=   0.0s\n",
      "[CV 5/5] END metric=minkowski, n_neighbors=23, weights=uniform; total time=   0.0s\n",
      "[CV 1/5] END metric=minkowski, n_neighbors=23, weights=distance; total time=   0.0s\n",
      "[CV 2/5] END metric=minkowski, n_neighbors=23, weights=distance; total time=   0.0s\n",
      "[CV 3/5] END metric=minkowski, n_neighbors=23, weights=distance; total time=   0.0s\n",
      "[CV 4/5] END metric=minkowski, n_neighbors=23, weights=distance; total time=   0.0s\n",
      "[CV 5/5] END metric=minkowski, n_neighbors=23, weights=distance; total time=   0.0s\n",
      "[CV 1/5] END metric=minkowski, n_neighbors=25, weights=uniform; total time=   0.0s\n",
      "[CV 2/5] END metric=minkowski, n_neighbors=25, weights=uniform; total time=   0.0s\n",
      "[CV 3/5] END metric=minkowski, n_neighbors=25, weights=uniform; total time=   0.0s\n",
      "[CV 4/5] END metric=minkowski, n_neighbors=25, weights=uniform; total time=   0.0s\n",
      "[CV 5/5] END metric=minkowski, n_neighbors=25, weights=uniform; total time=   0.0s\n",
      "[CV 1/5] END metric=minkowski, n_neighbors=25, weights=distance; total time=   0.0s\n",
      "[CV 2/5] END metric=minkowski, n_neighbors=25, weights=distance; total time=   0.0s\n",
      "[CV 3/5] END metric=minkowski, n_neighbors=25, weights=distance; total time=   0.0s\n",
      "[CV 4/5] END metric=minkowski, n_neighbors=25, weights=distance; total time=   0.0s\n",
      "[CV 5/5] END metric=minkowski, n_neighbors=25, weights=distance; total time=   0.0s\n",
      "[CV 1/5] END metric=minkowski, n_neighbors=27, weights=uniform; total time=   0.0s\n",
      "[CV 2/5] END metric=minkowski, n_neighbors=27, weights=uniform; total time=   0.0s\n",
      "[CV 3/5] END metric=minkowski, n_neighbors=27, weights=uniform; total time=   0.0s\n",
      "[CV 4/5] END metric=minkowski, n_neighbors=27, weights=uniform; total time=   0.0s\n",
      "[CV 5/5] END metric=minkowski, n_neighbors=27, weights=uniform; total time=   0.0s\n",
      "[CV 1/5] END metric=minkowski, n_neighbors=27, weights=distance; total time=   0.0s\n",
      "[CV 2/5] END metric=minkowski, n_neighbors=27, weights=distance; total time=   0.0s\n",
      "[CV 3/5] END metric=minkowski, n_neighbors=27, weights=distance; total time=   0.0s\n",
      "[CV 4/5] END metric=minkowski, n_neighbors=27, weights=distance; total time=   0.0s\n",
      "[CV 5/5] END metric=minkowski, n_neighbors=27, weights=distance; total time=   0.0s\n",
      "[CV 1/5] END metric=minkowski, n_neighbors=29, weights=uniform; total time=   0.0s\n",
      "[CV 2/5] END metric=minkowski, n_neighbors=29, weights=uniform; total time=   0.0s\n",
      "[CV 3/5] END metric=minkowski, n_neighbors=29, weights=uniform; total time=   0.0s\n",
      "[CV 4/5] END metric=minkowski, n_neighbors=29, weights=uniform; total time=   0.0s\n",
      "[CV 5/5] END metric=minkowski, n_neighbors=29, weights=uniform; total time=   0.0s\n",
      "[CV 1/5] END metric=minkowski, n_neighbors=29, weights=distance; total time=   0.0s\n",
      "[CV 2/5] END metric=minkowski, n_neighbors=29, weights=distance; total time=   0.0s\n",
      "[CV 3/5] END metric=minkowski, n_neighbors=29, weights=distance; total time=   0.0s\n",
      "[CV 4/5] END metric=minkowski, n_neighbors=29, weights=distance; total time=   0.0s\n",
      "[CV 5/5] END metric=minkowski, n_neighbors=29, weights=distance; total time=   0.0s\n"
     ]
    },
    {
     "output_type": "execute_result",
     "data": {
      "text/plain": [
       "GridSearchCV(cv=5, estimator=KNeighborsClassifier(),\n",
       "             param_grid={'metric': ['euclidean', 'manhattan', 'minkowski'],\n",
       "                         'n_neighbors': [1, 3, 5, 7, 9, 11, 13, 15, 17, 19, 21,\n",
       "                                         23, 25, 27, 29],\n",
       "                         'weights': ['uniform', 'distance']},\n",
       "             scoring='accuracy', verbose=3)"
      ]
     },
     "metadata": {},
     "execution_count": 13
    }
   ],
   "source": [
    "# Create the GridSearchCV model\n",
    "from sklearn.model_selection import GridSearchCV\n",
    "\n",
    "knn = KNeighborsClassifier()\n",
    "weight_options = [\"uniform\", \"distance\"]\n",
    "metrics = ['euclidean', 'manhattan', 'minkowski']\n",
    "\n",
    "param_grid = dict(n_neighbors = [1,3,5,7,9,11,13,15,17,19,21,23,25,27,29], weights = weight_options, metric=metrics)\n",
    "\n",
    "grid = GridSearchCV(knn, param_grid, cv = 5, scoring = 'accuracy', verbose=3)\n",
    "grid.fit(X_train_minmax, y_train)"
   ]
  },
  {
   "cell_type": "code",
   "execution_count": 14,
   "metadata": {},
   "outputs": [
    {
     "output_type": "stream",
     "name": "stdout",
     "text": [
      "0.9027622685865413\n{'metric': 'manhattan', 'n_neighbors': 1, 'weights': 'uniform'}\nKNeighborsClassifier(metric='manhattan', n_neighbors=1)\n"
     ]
    }
   ],
   "source": [
    "# Single best score achieved across all params (k)\n",
    "print(grid.best_score_)\n",
    "\n",
    "# Dictionary containing the parameters (k) used to generate that score\n",
    "print(grid.best_params_)\n",
    "\n",
    "# Actual model object fit with those best parameters\n",
    "# Shows default parameters that we did not specify\n",
    "print(grid.best_estimator_)"
   ]
  },
  {
   "cell_type": "code",
   "execution_count": 15,
   "metadata": {},
   "outputs": [
    {
     "output_type": "stream",
     "name": "stdout",
     "text": [
      "k=29 Train Acc: 1.000\nk=29 Test Acc: 0.841\n"
     ]
    }
   ],
   "source": [
    "knn = KNeighborsClassifier(n_neighbors=29, weights='distance', metric='manhattan')\n",
    "knn.fit(X_train_minmax, y_train)\n",
    "print('k=29 Train Acc: %.3f' % knn.score(X_train_minmax, y_train))\n",
    "print('k=29 Test Acc: %.3f' % knn.score(X_test_minmax, y_test))"
   ]
  },
  {
   "cell_type": "code",
   "execution_count": 16,
   "metadata": {},
   "outputs": [
    {
     "output_type": "execute_result",
     "data": {
      "text/plain": [
       "array([3, 2, 2, 2, 2, 2, 2, 2, 2, 2, 2, 2, 2, 3, 3, 2, 3, 2, 2, 3, 2, 2,\n",
       "       2, 2, 2, 2, 2, 2, 2, 2, 2, 2, 3, 3, 2, 2, 2, 2, 2, 2, 2, 2, 2, 2,\n",
       "       2, 2, 4, 2, 3, 4, 2, 2, 2, 2, 2, 2, 2, 2, 2, 2, 2, 2, 2, 2, 3, 2,\n",
       "       2, 2, 2, 3, 2, 2, 2, 2, 2, 3, 2, 3, 2, 2, 2, 2, 2, 2, 2, 2, 2, 2,\n",
       "       3, 2, 3, 3, 2, 2, 2, 2, 2, 2, 2, 2, 2, 2, 2, 2, 2, 2, 2, 2, 2, 4,\n",
       "       2, 2, 2, 2, 2, 2, 2, 2, 2, 2, 2, 3, 2, 2, 2, 2, 3, 2, 2, 3, 2, 2,\n",
       "       2, 2, 2, 2, 2, 2])"
      ]
     },
     "metadata": {},
     "execution_count": 16
    }
   ],
   "source": [
    "predictions = grid.predict(X_test_minmax)\n",
    "predictions"
   ]
  },
  {
   "cell_type": "code",
   "execution_count": 17,
   "metadata": {},
   "outputs": [
    {
     "output_type": "execute_result",
     "data": {
      "text/plain": [
       "     Prediction  Actual\n",
       "0             3       2\n",
       "1             2       2\n",
       "2             2       2\n",
       "3             2       2\n",
       "4             2       3\n",
       "..          ...     ...\n",
       "133           2       2\n",
       "134           2       2\n",
       "135           2       2\n",
       "136           2       2\n",
       "137           2       2\n",
       "\n",
       "[138 rows x 2 columns]"
      ],
      "text/html": "<div>\n<style scoped>\n    .dataframe tbody tr th:only-of-type {\n        vertical-align: middle;\n    }\n\n    .dataframe tbody tr th {\n        vertical-align: top;\n    }\n\n    .dataframe thead th {\n        text-align: right;\n    }\n</style>\n<table border=\"1\" class=\"dataframe\">\n  <thead>\n    <tr style=\"text-align: right;\">\n      <th></th>\n      <th>Prediction</th>\n      <th>Actual</th>\n    </tr>\n  </thead>\n  <tbody>\n    <tr>\n      <th>0</th>\n      <td>3</td>\n      <td>2</td>\n    </tr>\n    <tr>\n      <th>1</th>\n      <td>2</td>\n      <td>2</td>\n    </tr>\n    <tr>\n      <th>2</th>\n      <td>2</td>\n      <td>2</td>\n    </tr>\n    <tr>\n      <th>3</th>\n      <td>2</td>\n      <td>2</td>\n    </tr>\n    <tr>\n      <th>4</th>\n      <td>2</td>\n      <td>3</td>\n    </tr>\n    <tr>\n      <th>...</th>\n      <td>...</td>\n      <td>...</td>\n    </tr>\n    <tr>\n      <th>133</th>\n      <td>2</td>\n      <td>2</td>\n    </tr>\n    <tr>\n      <th>134</th>\n      <td>2</td>\n      <td>2</td>\n    </tr>\n    <tr>\n      <th>135</th>\n      <td>2</td>\n      <td>2</td>\n    </tr>\n    <tr>\n      <th>136</th>\n      <td>2</td>\n      <td>2</td>\n    </tr>\n    <tr>\n      <th>137</th>\n      <td>2</td>\n      <td>2</td>\n    </tr>\n  </tbody>\n</table>\n<p>138 rows × 2 columns</p>\n</div>"
     },
     "metadata": {},
     "execution_count": 17
    }
   ],
   "source": [
    "results = pd.DataFrame({\"Prediction\": predictions, \"Actual\": y_test.tolist()}).reset_index(drop=True)\n",
    "results"
   ]
  },
  {
   "cell_type": "code",
   "execution_count": 18,
   "metadata": {},
   "outputs": [
    {
     "output_type": "execute_result",
     "data": {
      "text/plain": [
       "   Prediction  Actual\n",
       "0           3       2\n",
       "1           2       2\n",
       "2           2       2\n",
       "3           2       2\n",
       "4           2       3\n",
       "5           2       2\n",
       "6           2       2\n",
       "7           2       2\n",
       "8           2       2\n",
       "9           2       2"
      ],
      "text/html": "<div>\n<style scoped>\n    .dataframe tbody tr th:only-of-type {\n        vertical-align: middle;\n    }\n\n    .dataframe tbody tr th {\n        vertical-align: top;\n    }\n\n    .dataframe thead th {\n        text-align: right;\n    }\n</style>\n<table border=\"1\" class=\"dataframe\">\n  <thead>\n    <tr style=\"text-align: right;\">\n      <th></th>\n      <th>Prediction</th>\n      <th>Actual</th>\n    </tr>\n  </thead>\n  <tbody>\n    <tr>\n      <th>0</th>\n      <td>3</td>\n      <td>2</td>\n    </tr>\n    <tr>\n      <th>1</th>\n      <td>2</td>\n      <td>2</td>\n    </tr>\n    <tr>\n      <th>2</th>\n      <td>2</td>\n      <td>2</td>\n    </tr>\n    <tr>\n      <th>3</th>\n      <td>2</td>\n      <td>2</td>\n    </tr>\n    <tr>\n      <th>4</th>\n      <td>2</td>\n      <td>3</td>\n    </tr>\n    <tr>\n      <th>5</th>\n      <td>2</td>\n      <td>2</td>\n    </tr>\n    <tr>\n      <th>6</th>\n      <td>2</td>\n      <td>2</td>\n    </tr>\n    <tr>\n      <th>7</th>\n      <td>2</td>\n      <td>2</td>\n    </tr>\n    <tr>\n      <th>8</th>\n      <td>2</td>\n      <td>2</td>\n    </tr>\n    <tr>\n      <th>9</th>\n      <td>2</td>\n      <td>2</td>\n    </tr>\n  </tbody>\n</table>\n</div>"
     },
     "metadata": {},
     "execution_count": 18
    }
   ],
   "source": [
    "results.head(10)"
   ]
  },
  {
   "cell_type": "code",
   "execution_count": 19,
   "metadata": {},
   "outputs": [
    {
     "output_type": "execute_result",
     "data": {
      "text/plain": [
       "     Prediction  Actual\n",
       "128           2       2\n",
       "129           3       3\n",
       "130           2       2\n",
       "131           2       2\n",
       "132           2       2\n",
       "133           2       2\n",
       "134           2       2\n",
       "135           2       2\n",
       "136           2       2\n",
       "137           2       2"
      ],
      "text/html": "<div>\n<style scoped>\n    .dataframe tbody tr th:only-of-type {\n        vertical-align: middle;\n    }\n\n    .dataframe tbody tr th {\n        vertical-align: top;\n    }\n\n    .dataframe thead th {\n        text-align: right;\n    }\n</style>\n<table border=\"1\" class=\"dataframe\">\n  <thead>\n    <tr style=\"text-align: right;\">\n      <th></th>\n      <th>Prediction</th>\n      <th>Actual</th>\n    </tr>\n  </thead>\n  <tbody>\n    <tr>\n      <th>128</th>\n      <td>2</td>\n      <td>2</td>\n    </tr>\n    <tr>\n      <th>129</th>\n      <td>3</td>\n      <td>3</td>\n    </tr>\n    <tr>\n      <th>130</th>\n      <td>2</td>\n      <td>2</td>\n    </tr>\n    <tr>\n      <th>131</th>\n      <td>2</td>\n      <td>2</td>\n    </tr>\n    <tr>\n      <th>132</th>\n      <td>2</td>\n      <td>2</td>\n    </tr>\n    <tr>\n      <th>133</th>\n      <td>2</td>\n      <td>2</td>\n    </tr>\n    <tr>\n      <th>134</th>\n      <td>2</td>\n      <td>2</td>\n    </tr>\n    <tr>\n      <th>135</th>\n      <td>2</td>\n      <td>2</td>\n    </tr>\n    <tr>\n      <th>136</th>\n      <td>2</td>\n      <td>2</td>\n    </tr>\n    <tr>\n      <th>137</th>\n      <td>2</td>\n      <td>2</td>\n    </tr>\n  </tbody>\n</table>\n</div>"
     },
     "metadata": {},
     "execution_count": 19
    }
   ],
   "source": [
    "results.tail(10)"
   ]
  },
  {
   "cell_type": "code",
   "execution_count": 20,
   "metadata": {},
   "outputs": [
    {
     "output_type": "display_data",
     "data": {
      "text/plain": "<Figure size 432x288 with 2 Axes>",
      "image/svg+xml": "<?xml version=\"1.0\" encoding=\"utf-8\" standalone=\"no\"?>\n<!DOCTYPE svg PUBLIC \"-//W3C//DTD SVG 1.1//EN\"\n  \"http://www.w3.org/Graphics/SVG/1.1/DTD/svg11.dtd\">\n<!-- Created with matplotlib (https://matplotlib.org/) -->\n<svg height=\"262.19625pt\" version=\"1.1\" viewBox=\"0 0 312.580125 262.19625\" width=\"312.580125pt\" xmlns=\"http://www.w3.org/2000/svg\" xmlns:xlink=\"http://www.w3.org/1999/xlink\">\n <metadata>\n  <rdf:RDF xmlns:cc=\"http://creativecommons.org/ns#\" xmlns:dc=\"http://purl.org/dc/elements/1.1/\" xmlns:rdf=\"http://www.w3.org/1999/02/22-rdf-syntax-ns#\">\n   <cc:Work>\n    <dc:type rdf:resource=\"http://purl.org/dc/dcmitype/StillImage\"/>\n    <dc:date>2021-07-06T22:13:48.321764</dc:date>\n    <dc:format>image/svg+xml</dc:format>\n    <dc:creator>\n     <cc:Agent>\n      <dc:title>Matplotlib v3.3.4, https://matplotlib.org/</dc:title>\n     </cc:Agent>\n    </dc:creator>\n   </cc:Work>\n  </rdf:RDF>\n </metadata>\n <defs>\n  <style type=\"text/css\">*{stroke-linecap:butt;stroke-linejoin:round;}</style>\n </defs>\n <g id=\"figure_1\">\n  <g id=\"patch_1\">\n   <path d=\"M 0 262.19625 \nL 312.580125 262.19625 \nL 312.580125 0 \nL 0 0 \nz\n\" style=\"fill:none;\"/>\n  </g>\n  <g id=\"axes_1\">\n   <g id=\"patch_2\">\n    <path d=\"M 34.240625 224.64 \nL 251.680625 224.64 \nL 251.680625 7.2 \nL 34.240625 7.2 \nz\n\" style=\"fill:#ffffff;\"/>\n   </g>\n   <g clip-path=\"url(#pa25faa008c)\">\n    <image height=\"218\" id=\"image33dc26dd1c\" transform=\"scale(1 -1)translate(0 -218)\" width=\"218\" x=\"34.240625\" xlink:href=\"data:image/png;base64,\niVBORw0KGgoAAAANSUhEUgAAANoAAADaCAYAAADAHVzbAAACz0lEQVR4nO3VwU0DMQBFwYQscOBEMXRFOXRFMUiR0AptYKkhBz+LMFPBt6xnH9dt3w836PPrMnvCME+Py+wJXOlu9gD4D4QGAaFBQGgQEBoEhAYBoUFAaBAQGgSEBgGhQUBoEBAaBIQGAaFBQGgQEBoEhAYBoUFAaBAQGgSEBgGhQUBoEBAaBIQGAaFBQGgQEBoEhAYBoUFAaBAQGgSEBgGhQUBoEBAaBIQGAaFBQGgQEBoEhAYBoUFAaBAQGgSEBgGhQUBoEBAaBIQGAaFBQGgQEBoEhAaBZfaAUc7rZfaEYR5Ot/k+3i+3ea7DwY8GCaFBQGgQEBoEhAYBoUFAaBAQGgSEBgGhQUBoEBAaBIQGAaFBQGgQEBoEhAYBoUFAaBAQGgSEBgGhQUBoEBAaBIQGAaFBQGgQEBoEhAYBoUFAaBAQGgSEBgGhQUBoEBAaBIQGAaFBQGgQEBoEhAYBoUFAaBAQGgSEBgGhQUBoEBAaBIQGAaFBQGgQEBoEhAaB47rt++wRIzy/vM6eMMzH+9vsCVzJjwYBoUFAaBAQGgSEBgGhQUBoEBAaBIQGAaFBQGgQEBoEhAYBoUFAaBAQGgSEBgGhQUBoEBAaBIQGAaFBQGgQEBoEhAYBoUFAaBAQGgSEBgGhQUBoEBAaBIQGAaFBQGgQEBoEhAYBoUFAaBAQGgSEBgGhQUBoEBAaBIQGAaFBQGgQEBoEhAYBoUFAaBAQGgSEBgGhQeC4bvs+e8QIl++f2ROGWU7ex7/GjUFAaBAQGgSEBgGhQUBoEBAaBIQGAaFBQGgQEBoEhAYBoUFAaBAQGgSEBgGhQUBoEBAaBIQGAaFBQGgQEBoEhAYBoUFAaBAQGgSEBgGhQUBoEBAaBIQGAaFBQGgQEBoEhAYBoUFAaBAQGgSEBgGhQUBoEBAaBIQGAaFBQGgQEBoEhAYBoUFAaBAQGgSEBgGhQeAXmqEZf4AqSI4AAAAASUVORK5CYII=\" y=\"-6.64\"/>\n   </g>\n   <g id=\"matplotlib.axis_1\">\n    <g id=\"xtick_1\">\n     <g id=\"line2d_1\">\n      <defs>\n       <path d=\"M 0 0 \nL 0 3.5 \n\" id=\"m4874d7e25a\" style=\"stroke:#000000;stroke-width:0.8;\"/>\n      </defs>\n      <g>\n       <use style=\"stroke:#000000;stroke-width:0.8;\" x=\"61.420625\" xlink:href=\"#m4874d7e25a\" y=\"224.64\"/>\n      </g>\n     </g>\n     <g id=\"text_1\">\n      <!-- 1 -->\n      <g transform=\"translate(58.239375 239.238437)scale(0.1 -0.1)\">\n       <defs>\n        <path d=\"M 12.40625 8.296875 \nL 28.515625 8.296875 \nL 28.515625 63.921875 \nL 10.984375 60.40625 \nL 10.984375 69.390625 \nL 28.421875 72.90625 \nL 38.28125 72.90625 \nL 38.28125 8.296875 \nL 54.390625 8.296875 \nL 54.390625 0 \nL 12.40625 0 \nz\n\" id=\"DejaVuSans-49\"/>\n       </defs>\n       <use xlink:href=\"#DejaVuSans-49\"/>\n      </g>\n     </g>\n    </g>\n    <g id=\"xtick_2\">\n     <g id=\"line2d_2\">\n      <g>\n       <use style=\"stroke:#000000;stroke-width:0.8;\" x=\"115.780625\" xlink:href=\"#m4874d7e25a\" y=\"224.64\"/>\n      </g>\n     </g>\n     <g id=\"text_2\">\n      <!-- 2 -->\n      <g transform=\"translate(112.599375 239.238437)scale(0.1 -0.1)\">\n       <defs>\n        <path d=\"M 19.1875 8.296875 \nL 53.609375 8.296875 \nL 53.609375 0 \nL 7.328125 0 \nL 7.328125 8.296875 \nQ 12.9375 14.109375 22.625 23.890625 \nQ 32.328125 33.6875 34.8125 36.53125 \nQ 39.546875 41.84375 41.421875 45.53125 \nQ 43.3125 49.21875 43.3125 52.78125 \nQ 43.3125 58.59375 39.234375 62.25 \nQ 35.15625 65.921875 28.609375 65.921875 \nQ 23.96875 65.921875 18.8125 64.3125 \nQ 13.671875 62.703125 7.8125 59.421875 \nL 7.8125 69.390625 \nQ 13.765625 71.78125 18.9375 73 \nQ 24.125 74.21875 28.421875 74.21875 \nQ 39.75 74.21875 46.484375 68.546875 \nQ 53.21875 62.890625 53.21875 53.421875 \nQ 53.21875 48.921875 51.53125 44.890625 \nQ 49.859375 40.875 45.40625 35.40625 \nQ 44.1875 33.984375 37.640625 27.21875 \nQ 31.109375 20.453125 19.1875 8.296875 \nz\n\" id=\"DejaVuSans-50\"/>\n       </defs>\n       <use xlink:href=\"#DejaVuSans-50\"/>\n      </g>\n     </g>\n    </g>\n    <g id=\"xtick_3\">\n     <g id=\"line2d_3\">\n      <g>\n       <use style=\"stroke:#000000;stroke-width:0.8;\" x=\"170.140625\" xlink:href=\"#m4874d7e25a\" y=\"224.64\"/>\n      </g>\n     </g>\n     <g id=\"text_3\">\n      <!-- 3 -->\n      <g transform=\"translate(166.959375 239.238437)scale(0.1 -0.1)\">\n       <defs>\n        <path d=\"M 40.578125 39.3125 \nQ 47.65625 37.796875 51.625 33 \nQ 55.609375 28.21875 55.609375 21.1875 \nQ 55.609375 10.40625 48.1875 4.484375 \nQ 40.765625 -1.421875 27.09375 -1.421875 \nQ 22.515625 -1.421875 17.65625 -0.515625 \nQ 12.796875 0.390625 7.625 2.203125 \nL 7.625 11.71875 \nQ 11.71875 9.328125 16.59375 8.109375 \nQ 21.484375 6.890625 26.8125 6.890625 \nQ 36.078125 6.890625 40.9375 10.546875 \nQ 45.796875 14.203125 45.796875 21.1875 \nQ 45.796875 27.640625 41.28125 31.265625 \nQ 36.765625 34.90625 28.71875 34.90625 \nL 20.21875 34.90625 \nL 20.21875 43.015625 \nL 29.109375 43.015625 \nQ 36.375 43.015625 40.234375 45.921875 \nQ 44.09375 48.828125 44.09375 54.296875 \nQ 44.09375 59.90625 40.109375 62.90625 \nQ 36.140625 65.921875 28.71875 65.921875 \nQ 24.65625 65.921875 20.015625 65.03125 \nQ 15.375 64.15625 9.8125 62.3125 \nL 9.8125 71.09375 \nQ 15.4375 72.65625 20.34375 73.4375 \nQ 25.25 74.21875 29.59375 74.21875 \nQ 40.828125 74.21875 47.359375 69.109375 \nQ 53.90625 64.015625 53.90625 55.328125 \nQ 53.90625 49.265625 50.4375 45.09375 \nQ 46.96875 40.921875 40.578125 39.3125 \nz\n\" id=\"DejaVuSans-51\"/>\n       </defs>\n       <use xlink:href=\"#DejaVuSans-51\"/>\n      </g>\n     </g>\n    </g>\n    <g id=\"xtick_4\">\n     <g id=\"line2d_4\">\n      <g>\n       <use style=\"stroke:#000000;stroke-width:0.8;\" x=\"224.500625\" xlink:href=\"#m4874d7e25a\" y=\"224.64\"/>\n      </g>\n     </g>\n     <g id=\"text_4\">\n      <!-- 4 -->\n      <g transform=\"translate(221.319375 239.238437)scale(0.1 -0.1)\">\n       <defs>\n        <path d=\"M 37.796875 64.3125 \nL 12.890625 25.390625 \nL 37.796875 25.390625 \nz\nM 35.203125 72.90625 \nL 47.609375 72.90625 \nL 47.609375 25.390625 \nL 58.015625 25.390625 \nL 58.015625 17.1875 \nL 47.609375 17.1875 \nL 47.609375 0 \nL 37.796875 0 \nL 37.796875 17.1875 \nL 4.890625 17.1875 \nL 4.890625 26.703125 \nz\n\" id=\"DejaVuSans-52\"/>\n       </defs>\n       <use xlink:href=\"#DejaVuSans-52\"/>\n      </g>\n     </g>\n    </g>\n    <g id=\"text_5\">\n     <!-- Predicted label -->\n     <g transform=\"translate(105.808281 252.916562)scale(0.1 -0.1)\">\n      <defs>\n       <path d=\"M 19.671875 64.796875 \nL 19.671875 37.40625 \nL 32.078125 37.40625 \nQ 38.96875 37.40625 42.71875 40.96875 \nQ 46.484375 44.53125 46.484375 51.125 \nQ 46.484375 57.671875 42.71875 61.234375 \nQ 38.96875 64.796875 32.078125 64.796875 \nz\nM 9.8125 72.90625 \nL 32.078125 72.90625 \nQ 44.34375 72.90625 50.609375 67.359375 \nQ 56.890625 61.8125 56.890625 51.125 \nQ 56.890625 40.328125 50.609375 34.8125 \nQ 44.34375 29.296875 32.078125 29.296875 \nL 19.671875 29.296875 \nL 19.671875 0 \nL 9.8125 0 \nz\n\" id=\"DejaVuSans-80\"/>\n       <path d=\"M 41.109375 46.296875 \nQ 39.59375 47.171875 37.8125 47.578125 \nQ 36.03125 48 33.890625 48 \nQ 26.265625 48 22.1875 43.046875 \nQ 18.109375 38.09375 18.109375 28.8125 \nL 18.109375 0 \nL 9.078125 0 \nL 9.078125 54.6875 \nL 18.109375 54.6875 \nL 18.109375 46.1875 \nQ 20.953125 51.171875 25.484375 53.578125 \nQ 30.03125 56 36.53125 56 \nQ 37.453125 56 38.578125 55.875 \nQ 39.703125 55.765625 41.0625 55.515625 \nz\n\" id=\"DejaVuSans-114\"/>\n       <path d=\"M 56.203125 29.59375 \nL 56.203125 25.203125 \nL 14.890625 25.203125 \nQ 15.484375 15.921875 20.484375 11.0625 \nQ 25.484375 6.203125 34.421875 6.203125 \nQ 39.59375 6.203125 44.453125 7.46875 \nQ 49.3125 8.734375 54.109375 11.28125 \nL 54.109375 2.78125 \nQ 49.265625 0.734375 44.1875 -0.34375 \nQ 39.109375 -1.421875 33.890625 -1.421875 \nQ 20.796875 -1.421875 13.15625 6.1875 \nQ 5.515625 13.8125 5.515625 26.8125 \nQ 5.515625 40.234375 12.765625 48.109375 \nQ 20.015625 56 32.328125 56 \nQ 43.359375 56 49.78125 48.890625 \nQ 56.203125 41.796875 56.203125 29.59375 \nz\nM 47.21875 32.234375 \nQ 47.125 39.59375 43.09375 43.984375 \nQ 39.0625 48.390625 32.421875 48.390625 \nQ 24.90625 48.390625 20.390625 44.140625 \nQ 15.875 39.890625 15.1875 32.171875 \nz\n\" id=\"DejaVuSans-101\"/>\n       <path d=\"M 45.40625 46.390625 \nL 45.40625 75.984375 \nL 54.390625 75.984375 \nL 54.390625 0 \nL 45.40625 0 \nL 45.40625 8.203125 \nQ 42.578125 3.328125 38.25 0.953125 \nQ 33.9375 -1.421875 27.875 -1.421875 \nQ 17.96875 -1.421875 11.734375 6.484375 \nQ 5.515625 14.40625 5.515625 27.296875 \nQ 5.515625 40.1875 11.734375 48.09375 \nQ 17.96875 56 27.875 56 \nQ 33.9375 56 38.25 53.625 \nQ 42.578125 51.265625 45.40625 46.390625 \nz\nM 14.796875 27.296875 \nQ 14.796875 17.390625 18.875 11.75 \nQ 22.953125 6.109375 30.078125 6.109375 \nQ 37.203125 6.109375 41.296875 11.75 \nQ 45.40625 17.390625 45.40625 27.296875 \nQ 45.40625 37.203125 41.296875 42.84375 \nQ 37.203125 48.484375 30.078125 48.484375 \nQ 22.953125 48.484375 18.875 42.84375 \nQ 14.796875 37.203125 14.796875 27.296875 \nz\n\" id=\"DejaVuSans-100\"/>\n       <path d=\"M 9.421875 54.6875 \nL 18.40625 54.6875 \nL 18.40625 0 \nL 9.421875 0 \nz\nM 9.421875 75.984375 \nL 18.40625 75.984375 \nL 18.40625 64.59375 \nL 9.421875 64.59375 \nz\n\" id=\"DejaVuSans-105\"/>\n       <path d=\"M 48.78125 52.59375 \nL 48.78125 44.1875 \nQ 44.96875 46.296875 41.140625 47.34375 \nQ 37.3125 48.390625 33.40625 48.390625 \nQ 24.65625 48.390625 19.8125 42.84375 \nQ 14.984375 37.3125 14.984375 27.296875 \nQ 14.984375 17.28125 19.8125 11.734375 \nQ 24.65625 6.203125 33.40625 6.203125 \nQ 37.3125 6.203125 41.140625 7.25 \nQ 44.96875 8.296875 48.78125 10.40625 \nL 48.78125 2.09375 \nQ 45.015625 0.34375 40.984375 -0.53125 \nQ 36.96875 -1.421875 32.421875 -1.421875 \nQ 20.0625 -1.421875 12.78125 6.34375 \nQ 5.515625 14.109375 5.515625 27.296875 \nQ 5.515625 40.671875 12.859375 48.328125 \nQ 20.21875 56 33.015625 56 \nQ 37.15625 56 41.109375 55.140625 \nQ 45.0625 54.296875 48.78125 52.59375 \nz\n\" id=\"DejaVuSans-99\"/>\n       <path d=\"M 18.3125 70.21875 \nL 18.3125 54.6875 \nL 36.8125 54.6875 \nL 36.8125 47.703125 \nL 18.3125 47.703125 \nL 18.3125 18.015625 \nQ 18.3125 11.328125 20.140625 9.421875 \nQ 21.96875 7.515625 27.59375 7.515625 \nL 36.8125 7.515625 \nL 36.8125 0 \nL 27.59375 0 \nQ 17.1875 0 13.234375 3.875 \nQ 9.28125 7.765625 9.28125 18.015625 \nL 9.28125 47.703125 \nL 2.6875 47.703125 \nL 2.6875 54.6875 \nL 9.28125 54.6875 \nL 9.28125 70.21875 \nz\n\" id=\"DejaVuSans-116\"/>\n       <path id=\"DejaVuSans-32\"/>\n       <path d=\"M 9.421875 75.984375 \nL 18.40625 75.984375 \nL 18.40625 0 \nL 9.421875 0 \nz\n\" id=\"DejaVuSans-108\"/>\n       <path d=\"M 34.28125 27.484375 \nQ 23.390625 27.484375 19.1875 25 \nQ 14.984375 22.515625 14.984375 16.5 \nQ 14.984375 11.71875 18.140625 8.90625 \nQ 21.296875 6.109375 26.703125 6.109375 \nQ 34.1875 6.109375 38.703125 11.40625 \nQ 43.21875 16.703125 43.21875 25.484375 \nL 43.21875 27.484375 \nz\nM 52.203125 31.203125 \nL 52.203125 0 \nL 43.21875 0 \nL 43.21875 8.296875 \nQ 40.140625 3.328125 35.546875 0.953125 \nQ 30.953125 -1.421875 24.3125 -1.421875 \nQ 15.921875 -1.421875 10.953125 3.296875 \nQ 6 8.015625 6 15.921875 \nQ 6 25.140625 12.171875 29.828125 \nQ 18.359375 34.515625 30.609375 34.515625 \nL 43.21875 34.515625 \nL 43.21875 35.40625 \nQ 43.21875 41.609375 39.140625 45 \nQ 35.0625 48.390625 27.6875 48.390625 \nQ 23 48.390625 18.546875 47.265625 \nQ 14.109375 46.140625 10.015625 43.890625 \nL 10.015625 52.203125 \nQ 14.9375 54.109375 19.578125 55.046875 \nQ 24.21875 56 28.609375 56 \nQ 40.484375 56 46.34375 49.84375 \nQ 52.203125 43.703125 52.203125 31.203125 \nz\n\" id=\"DejaVuSans-97\"/>\n       <path d=\"M 48.6875 27.296875 \nQ 48.6875 37.203125 44.609375 42.84375 \nQ 40.53125 48.484375 33.40625 48.484375 \nQ 26.265625 48.484375 22.1875 42.84375 \nQ 18.109375 37.203125 18.109375 27.296875 \nQ 18.109375 17.390625 22.1875 11.75 \nQ 26.265625 6.109375 33.40625 6.109375 \nQ 40.53125 6.109375 44.609375 11.75 \nQ 48.6875 17.390625 48.6875 27.296875 \nz\nM 18.109375 46.390625 \nQ 20.953125 51.265625 25.265625 53.625 \nQ 29.59375 56 35.59375 56 \nQ 45.5625 56 51.78125 48.09375 \nQ 58.015625 40.1875 58.015625 27.296875 \nQ 58.015625 14.40625 51.78125 6.484375 \nQ 45.5625 -1.421875 35.59375 -1.421875 \nQ 29.59375 -1.421875 25.265625 0.953125 \nQ 20.953125 3.328125 18.109375 8.203125 \nL 18.109375 0 \nL 9.078125 0 \nL 9.078125 75.984375 \nL 18.109375 75.984375 \nz\n\" id=\"DejaVuSans-98\"/>\n      </defs>\n      <use xlink:href=\"#DejaVuSans-80\"/>\n      <use x=\"58.552734\" xlink:href=\"#DejaVuSans-114\"/>\n      <use x=\"97.416016\" xlink:href=\"#DejaVuSans-101\"/>\n      <use x=\"158.939453\" xlink:href=\"#DejaVuSans-100\"/>\n      <use x=\"222.416016\" xlink:href=\"#DejaVuSans-105\"/>\n      <use x=\"250.199219\" xlink:href=\"#DejaVuSans-99\"/>\n      <use x=\"305.179688\" xlink:href=\"#DejaVuSans-116\"/>\n      <use x=\"344.388672\" xlink:href=\"#DejaVuSans-101\"/>\n      <use x=\"405.912109\" xlink:href=\"#DejaVuSans-100\"/>\n      <use x=\"469.388672\" xlink:href=\"#DejaVuSans-32\"/>\n      <use x=\"501.175781\" xlink:href=\"#DejaVuSans-108\"/>\n      <use x=\"528.958984\" xlink:href=\"#DejaVuSans-97\"/>\n      <use x=\"590.238281\" xlink:href=\"#DejaVuSans-98\"/>\n      <use x=\"653.714844\" xlink:href=\"#DejaVuSans-101\"/>\n      <use x=\"715.238281\" xlink:href=\"#DejaVuSans-108\"/>\n     </g>\n    </g>\n   </g>\n   <g id=\"matplotlib.axis_2\">\n    <g id=\"ytick_1\">\n     <g id=\"line2d_5\">\n      <defs>\n       <path d=\"M 0 0 \nL -3.5 0 \n\" id=\"m776f746e0c\" style=\"stroke:#000000;stroke-width:0.8;\"/>\n      </defs>\n      <g>\n       <use style=\"stroke:#000000;stroke-width:0.8;\" x=\"34.240625\" xlink:href=\"#m776f746e0c\" y=\"34.38\"/>\n      </g>\n     </g>\n     <g id=\"text_6\">\n      <!-- 1 -->\n      <g transform=\"translate(20.878125 38.179219)scale(0.1 -0.1)\">\n       <use xlink:href=\"#DejaVuSans-49\"/>\n      </g>\n     </g>\n    </g>\n    <g id=\"ytick_2\">\n     <g id=\"line2d_6\">\n      <g>\n       <use style=\"stroke:#000000;stroke-width:0.8;\" x=\"34.240625\" xlink:href=\"#m776f746e0c\" y=\"88.74\"/>\n      </g>\n     </g>\n     <g id=\"text_7\">\n      <!-- 2 -->\n      <g transform=\"translate(20.878125 92.539219)scale(0.1 -0.1)\">\n       <use xlink:href=\"#DejaVuSans-50\"/>\n      </g>\n     </g>\n    </g>\n    <g id=\"ytick_3\">\n     <g id=\"line2d_7\">\n      <g>\n       <use style=\"stroke:#000000;stroke-width:0.8;\" x=\"34.240625\" xlink:href=\"#m776f746e0c\" y=\"143.1\"/>\n      </g>\n     </g>\n     <g id=\"text_8\">\n      <!-- 3 -->\n      <g transform=\"translate(20.878125 146.899219)scale(0.1 -0.1)\">\n       <use xlink:href=\"#DejaVuSans-51\"/>\n      </g>\n     </g>\n    </g>\n    <g id=\"ytick_4\">\n     <g id=\"line2d_8\">\n      <g>\n       <use style=\"stroke:#000000;stroke-width:0.8;\" x=\"34.240625\" xlink:href=\"#m776f746e0c\" y=\"197.46\"/>\n      </g>\n     </g>\n     <g id=\"text_9\">\n      <!-- 4 -->\n      <g transform=\"translate(20.878125 201.259219)scale(0.1 -0.1)\">\n       <use xlink:href=\"#DejaVuSans-52\"/>\n      </g>\n     </g>\n    </g>\n    <g id=\"text_10\">\n     <!-- True label -->\n     <g transform=\"translate(14.798437 140.219219)rotate(-90)scale(0.1 -0.1)\">\n      <defs>\n       <path d=\"M -0.296875 72.90625 \nL 61.375 72.90625 \nL 61.375 64.59375 \nL 35.5 64.59375 \nL 35.5 0 \nL 25.59375 0 \nL 25.59375 64.59375 \nL -0.296875 64.59375 \nz\n\" id=\"DejaVuSans-84\"/>\n       <path d=\"M 8.5 21.578125 \nL 8.5 54.6875 \nL 17.484375 54.6875 \nL 17.484375 21.921875 \nQ 17.484375 14.15625 20.5 10.265625 \nQ 23.53125 6.390625 29.59375 6.390625 \nQ 36.859375 6.390625 41.078125 11.03125 \nQ 45.3125 15.671875 45.3125 23.6875 \nL 45.3125 54.6875 \nL 54.296875 54.6875 \nL 54.296875 0 \nL 45.3125 0 \nL 45.3125 8.40625 \nQ 42.046875 3.421875 37.71875 1 \nQ 33.40625 -1.421875 27.6875 -1.421875 \nQ 18.265625 -1.421875 13.375 4.4375 \nQ 8.5 10.296875 8.5 21.578125 \nz\nM 31.109375 56 \nz\n\" id=\"DejaVuSans-117\"/>\n      </defs>\n      <use xlink:href=\"#DejaVuSans-84\"/>\n      <use x=\"46.333984\" xlink:href=\"#DejaVuSans-114\"/>\n      <use x=\"87.447266\" xlink:href=\"#DejaVuSans-117\"/>\n      <use x=\"150.826172\" xlink:href=\"#DejaVuSans-101\"/>\n      <use x=\"212.349609\" xlink:href=\"#DejaVuSans-32\"/>\n      <use x=\"244.136719\" xlink:href=\"#DejaVuSans-108\"/>\n      <use x=\"271.919922\" xlink:href=\"#DejaVuSans-97\"/>\n      <use x=\"333.199219\" xlink:href=\"#DejaVuSans-98\"/>\n      <use x=\"396.675781\" xlink:href=\"#DejaVuSans-101\"/>\n      <use x=\"458.199219\" xlink:href=\"#DejaVuSans-108\"/>\n     </g>\n    </g>\n   </g>\n   <g id=\"patch_3\">\n    <path d=\"M 34.240625 224.64 \nL 34.240625 7.2 \n\" style=\"fill:none;stroke:#000000;stroke-linecap:square;stroke-linejoin:miter;stroke-width:0.8;\"/>\n   </g>\n   <g id=\"patch_4\">\n    <path d=\"M 251.680625 224.64 \nL 251.680625 7.2 \n\" style=\"fill:none;stroke:#000000;stroke-linecap:square;stroke-linejoin:miter;stroke-width:0.8;\"/>\n   </g>\n   <g id=\"patch_5\">\n    <path d=\"M 34.240625 224.64 \nL 251.680625 224.64 \n\" style=\"fill:none;stroke:#000000;stroke-linecap:square;stroke-linejoin:miter;stroke-width:0.8;\"/>\n   </g>\n   <g id=\"patch_6\">\n    <path d=\"M 34.240625 7.2 \nL 251.680625 7.2 \n\" style=\"fill:none;stroke:#000000;stroke-linecap:square;stroke-linejoin:miter;stroke-width:0.8;\"/>\n   </g>\n   <g id=\"text_11\">\n    <!-- 0 -->\n    <g style=\"fill:#08306b;\" transform=\"translate(58.239375 37.139375)scale(0.1 -0.1)\">\n     <defs>\n      <path d=\"M 31.78125 66.40625 \nQ 24.171875 66.40625 20.328125 58.90625 \nQ 16.5 51.421875 16.5 36.375 \nQ 16.5 21.390625 20.328125 13.890625 \nQ 24.171875 6.390625 31.78125 6.390625 \nQ 39.453125 6.390625 43.28125 13.890625 \nQ 47.125 21.390625 47.125 36.375 \nQ 47.125 51.421875 43.28125 58.90625 \nQ 39.453125 66.40625 31.78125 66.40625 \nz\nM 31.78125 74.21875 \nQ 44.046875 74.21875 50.515625 64.515625 \nQ 56.984375 54.828125 56.984375 36.375 \nQ 56.984375 17.96875 50.515625 8.265625 \nQ 44.046875 -1.421875 31.78125 -1.421875 \nQ 19.53125 -1.421875 13.0625 8.265625 \nQ 6.59375 17.96875 6.59375 36.375 \nQ 6.59375 54.828125 13.0625 64.515625 \nQ 19.53125 74.21875 31.78125 74.21875 \nz\n\" id=\"DejaVuSans-48\"/>\n     </defs>\n     <use xlink:href=\"#DejaVuSans-48\"/>\n    </g>\n   </g>\n   <g id=\"text_12\">\n    <!-- 2 -->\n    <g style=\"fill:#08306b;\" transform=\"translate(112.599375 37.139375)scale(0.1 -0.1)\">\n     <use xlink:href=\"#DejaVuSans-50\"/>\n    </g>\n   </g>\n   <g id=\"text_13\">\n    <!-- 0 -->\n    <g style=\"fill:#08306b;\" transform=\"translate(166.959375 37.139375)scale(0.1 -0.1)\">\n     <use xlink:href=\"#DejaVuSans-48\"/>\n    </g>\n   </g>\n   <g id=\"text_14\">\n    <!-- 0 -->\n    <g style=\"fill:#08306b;\" transform=\"translate(221.319375 37.139375)scale(0.1 -0.1)\">\n     <use xlink:href=\"#DejaVuSans-48\"/>\n    </g>\n   </g>\n   <g id=\"text_15\">\n    <!-- 0 -->\n    <g style=\"fill:#08306b;\" transform=\"translate(58.239375 91.499375)scale(0.1 -0.1)\">\n     <use xlink:href=\"#DejaVuSans-48\"/>\n    </g>\n   </g>\n   <g id=\"text_16\">\n    <!-- 113 -->\n    <g style=\"fill:#f7fbff;\" transform=\"translate(106.236875 91.499375)scale(0.1 -0.1)\">\n     <use xlink:href=\"#DejaVuSans-49\"/>\n     <use x=\"63.623047\" xlink:href=\"#DejaVuSans-49\"/>\n     <use x=\"127.246094\" xlink:href=\"#DejaVuSans-51\"/>\n    </g>\n   </g>\n   <g id=\"text_17\">\n    <!-- 0 -->\n    <g style=\"fill:#08306b;\" transform=\"translate(166.959375 91.499375)scale(0.1 -0.1)\">\n     <use xlink:href=\"#DejaVuSans-48\"/>\n    </g>\n   </g>\n   <g id=\"text_18\">\n    <!-- 0 -->\n    <g style=\"fill:#08306b;\" transform=\"translate(221.319375 91.499375)scale(0.1 -0.1)\">\n     <use xlink:href=\"#DejaVuSans-48\"/>\n    </g>\n   </g>\n   <g id=\"text_19\">\n    <!-- 0 -->\n    <g style=\"fill:#08306b;\" transform=\"translate(58.239375 145.859375)scale(0.1 -0.1)\">\n     <use xlink:href=\"#DejaVuSans-48\"/>\n    </g>\n   </g>\n   <g id=\"text_20\">\n    <!-- 14 -->\n    <g style=\"fill:#08306b;\" transform=\"translate(109.418125 145.859375)scale(0.1 -0.1)\">\n     <use xlink:href=\"#DejaVuSans-49\"/>\n     <use x=\"63.623047\" xlink:href=\"#DejaVuSans-52\"/>\n    </g>\n   </g>\n   <g id=\"text_21\">\n    <!-- 3 -->\n    <g style=\"fill:#08306b;\" transform=\"translate(166.959375 145.859375)scale(0.1 -0.1)\">\n     <use xlink:href=\"#DejaVuSans-51\"/>\n    </g>\n   </g>\n   <g id=\"text_22\">\n    <!-- 0 -->\n    <g style=\"fill:#08306b;\" transform=\"translate(221.319375 145.859375)scale(0.1 -0.1)\">\n     <use xlink:href=\"#DejaVuSans-48\"/>\n    </g>\n   </g>\n   <g id=\"text_23\">\n    <!-- 0 -->\n    <g style=\"fill:#08306b;\" transform=\"translate(58.239375 200.219375)scale(0.1 -0.1)\">\n     <use xlink:href=\"#DejaVuSans-48\"/>\n    </g>\n   </g>\n   <g id=\"text_24\">\n    <!-- 6 -->\n    <g style=\"fill:#08306b;\" transform=\"translate(112.599375 200.219375)scale(0.1 -0.1)\">\n     <defs>\n      <path d=\"M 33.015625 40.375 \nQ 26.375 40.375 22.484375 35.828125 \nQ 18.609375 31.296875 18.609375 23.390625 \nQ 18.609375 15.53125 22.484375 10.953125 \nQ 26.375 6.390625 33.015625 6.390625 \nQ 39.65625 6.390625 43.53125 10.953125 \nQ 47.40625 15.53125 47.40625 23.390625 \nQ 47.40625 31.296875 43.53125 35.828125 \nQ 39.65625 40.375 33.015625 40.375 \nz\nM 52.59375 71.296875 \nL 52.59375 62.3125 \nQ 48.875 64.0625 45.09375 64.984375 \nQ 41.3125 65.921875 37.59375 65.921875 \nQ 27.828125 65.921875 22.671875 59.328125 \nQ 17.53125 52.734375 16.796875 39.40625 \nQ 19.671875 43.65625 24.015625 45.921875 \nQ 28.375 48.1875 33.59375 48.1875 \nQ 44.578125 48.1875 50.953125 41.515625 \nQ 57.328125 34.859375 57.328125 23.390625 \nQ 57.328125 12.15625 50.6875 5.359375 \nQ 44.046875 -1.421875 33.015625 -1.421875 \nQ 20.359375 -1.421875 13.671875 8.265625 \nQ 6.984375 17.96875 6.984375 36.375 \nQ 6.984375 53.65625 15.1875 63.9375 \nQ 23.390625 74.21875 37.203125 74.21875 \nQ 40.921875 74.21875 44.703125 73.484375 \nQ 48.484375 72.75 52.59375 71.296875 \nz\n\" id=\"DejaVuSans-54\"/>\n     </defs>\n     <use xlink:href=\"#DejaVuSans-54\"/>\n    </g>\n   </g>\n   <g id=\"text_25\">\n    <!-- 0 -->\n    <g style=\"fill:#08306b;\" transform=\"translate(166.959375 200.219375)scale(0.1 -0.1)\">\n     <use xlink:href=\"#DejaVuSans-48\"/>\n    </g>\n   </g>\n   <g id=\"text_26\">\n    <!-- 0 -->\n    <g style=\"fill:#08306b;\" transform=\"translate(221.319375 200.219375)scale(0.1 -0.1)\">\n     <use xlink:href=\"#DejaVuSans-48\"/>\n    </g>\n   </g>\n  </g>\n  <g id=\"axes_2\">\n   <g id=\"patch_7\">\n    <path clip-path=\"url(#p8b954a829f)\" d=\"M 268.420625 224.64 \nL 268.420625 223.790625 \nL 268.420625 8.049375 \nL 268.420625 7.2 \nL 279.292625 7.2 \nL 279.292625 8.049375 \nL 279.292625 223.790625 \nL 279.292625 224.64 \nz\n\" style=\"fill:#ffffff;stroke:#ffffff;stroke-linejoin:miter;stroke-width:0.01;\"/>\n   </g>\n   <image height=\"217\" id=\"image66a5f2e2a3\" transform=\"scale(1 -1)translate(0 -217)\" width=\"11\" x=\"268\" xlink:href=\"data:image/png;base64,\niVBORw0KGgoAAAANSUhEUgAAAAsAAADZCAYAAAD2WsoCAAABHElEQVR4nO2YMQ4CMRADA8r/n0uByIYWukwxyIvuamvl2F4nutvjufc4/OYex9gxz+diMKEBsGMCLORcAH0HLEzpQhyEkwEYZgNwLk26kSEdzAbh7NHQeoPZ3bC+OvZGinRX+H9CI0Q67VWQckBkNzygdsNqDi50wAzOlZHnOh/stqjFuUBGGWezN8Dk5VWBlzrtcYKqQGxR7e5eJM9eP3sOIp0X6ALTwXOsScPLBrQ7osw9ndk9KLaot7AR0nn93DEbaLs9nc2/EKj5I3YwJBvslctoRKgBD2jRCJls2g1oeEHy7O4YpJDtZn8CxWycvxlTODNwht0h2fh/u69sfICh3YhGw8n1sia3VGNF0ECTycJedn+BO9ptTX4DblXiEVeBW/gAAAAASUVORK5CYII=\" y=\"-7\"/>\n   <g id=\"matplotlib.axis_3\"/>\n   <g id=\"matplotlib.axis_4\">\n    <g id=\"ytick_5\">\n     <g id=\"line2d_9\">\n      <defs>\n       <path d=\"M 0 0 \nL 3.5 0 \n\" id=\"maf6d99e135\" style=\"stroke:#000000;stroke-width:0.8;\"/>\n      </defs>\n      <g>\n       <use style=\"stroke:#000000;stroke-width:0.8;\" x=\"279.292625\" xlink:href=\"#maf6d99e135\" y=\"224.64\"/>\n      </g>\n     </g>\n     <g id=\"text_27\">\n      <!-- 0 -->\n      <g transform=\"translate(286.292625 228.439219)scale(0.1 -0.1)\">\n       <use xlink:href=\"#DejaVuSans-48\"/>\n      </g>\n     </g>\n    </g>\n    <g id=\"ytick_6\">\n     <g id=\"line2d_10\">\n      <g>\n       <use style=\"stroke:#000000;stroke-width:0.8;\" x=\"279.292625\" xlink:href=\"#maf6d99e135\" y=\"186.155044\"/>\n      </g>\n     </g>\n     <g id=\"text_28\">\n      <!-- 20 -->\n      <g transform=\"translate(286.292625 189.954263)scale(0.1 -0.1)\">\n       <use xlink:href=\"#DejaVuSans-50\"/>\n       <use x=\"63.623047\" xlink:href=\"#DejaVuSans-48\"/>\n      </g>\n     </g>\n    </g>\n    <g id=\"ytick_7\">\n     <g id=\"line2d_11\">\n      <g>\n       <use style=\"stroke:#000000;stroke-width:0.8;\" x=\"279.292625\" xlink:href=\"#maf6d99e135\" y=\"147.670088\"/>\n      </g>\n     </g>\n     <g id=\"text_29\">\n      <!-- 40 -->\n      <g transform=\"translate(286.292625 151.469307)scale(0.1 -0.1)\">\n       <use xlink:href=\"#DejaVuSans-52\"/>\n       <use x=\"63.623047\" xlink:href=\"#DejaVuSans-48\"/>\n      </g>\n     </g>\n    </g>\n    <g id=\"ytick_8\">\n     <g id=\"line2d_12\">\n      <g>\n       <use style=\"stroke:#000000;stroke-width:0.8;\" x=\"279.292625\" xlink:href=\"#maf6d99e135\" y=\"109.185133\"/>\n      </g>\n     </g>\n     <g id=\"text_30\">\n      <!-- 60 -->\n      <g transform=\"translate(286.292625 112.984351)scale(0.1 -0.1)\">\n       <use xlink:href=\"#DejaVuSans-54\"/>\n       <use x=\"63.623047\" xlink:href=\"#DejaVuSans-48\"/>\n      </g>\n     </g>\n    </g>\n    <g id=\"ytick_9\">\n     <g id=\"line2d_13\">\n      <g>\n       <use style=\"stroke:#000000;stroke-width:0.8;\" x=\"279.292625\" xlink:href=\"#maf6d99e135\" y=\"70.700177\"/>\n      </g>\n     </g>\n     <g id=\"text_31\">\n      <!-- 80 -->\n      <g transform=\"translate(286.292625 74.499396)scale(0.1 -0.1)\">\n       <defs>\n        <path d=\"M 31.78125 34.625 \nQ 24.75 34.625 20.71875 30.859375 \nQ 16.703125 27.09375 16.703125 20.515625 \nQ 16.703125 13.921875 20.71875 10.15625 \nQ 24.75 6.390625 31.78125 6.390625 \nQ 38.8125 6.390625 42.859375 10.171875 \nQ 46.921875 13.96875 46.921875 20.515625 \nQ 46.921875 27.09375 42.890625 30.859375 \nQ 38.875 34.625 31.78125 34.625 \nz\nM 21.921875 38.8125 \nQ 15.578125 40.375 12.03125 44.71875 \nQ 8.5 49.078125 8.5 55.328125 \nQ 8.5 64.0625 14.71875 69.140625 \nQ 20.953125 74.21875 31.78125 74.21875 \nQ 42.671875 74.21875 48.875 69.140625 \nQ 55.078125 64.0625 55.078125 55.328125 \nQ 55.078125 49.078125 51.53125 44.71875 \nQ 48 40.375 41.703125 38.8125 \nQ 48.828125 37.15625 52.796875 32.3125 \nQ 56.78125 27.484375 56.78125 20.515625 \nQ 56.78125 9.90625 50.3125 4.234375 \nQ 43.84375 -1.421875 31.78125 -1.421875 \nQ 19.734375 -1.421875 13.25 4.234375 \nQ 6.78125 9.90625 6.78125 20.515625 \nQ 6.78125 27.484375 10.78125 32.3125 \nQ 14.796875 37.15625 21.921875 38.8125 \nz\nM 18.3125 54.390625 \nQ 18.3125 48.734375 21.84375 45.5625 \nQ 25.390625 42.390625 31.78125 42.390625 \nQ 38.140625 42.390625 41.71875 45.5625 \nQ 45.3125 48.734375 45.3125 54.390625 \nQ 45.3125 60.0625 41.71875 63.234375 \nQ 38.140625 66.40625 31.78125 66.40625 \nQ 25.390625 66.40625 21.84375 63.234375 \nQ 18.3125 60.0625 18.3125 54.390625 \nz\n\" id=\"DejaVuSans-56\"/>\n       </defs>\n       <use xlink:href=\"#DejaVuSans-56\"/>\n       <use x=\"63.623047\" xlink:href=\"#DejaVuSans-48\"/>\n      </g>\n     </g>\n    </g>\n    <g id=\"ytick_10\">\n     <g id=\"line2d_14\">\n      <g>\n       <use style=\"stroke:#000000;stroke-width:0.8;\" x=\"279.292625\" xlink:href=\"#maf6d99e135\" y=\"32.215221\"/>\n      </g>\n     </g>\n     <g id=\"text_32\">\n      <!-- 100 -->\n      <g transform=\"translate(286.292625 36.01444)scale(0.1 -0.1)\">\n       <use xlink:href=\"#DejaVuSans-49\"/>\n       <use x=\"63.623047\" xlink:href=\"#DejaVuSans-48\"/>\n       <use x=\"127.246094\" xlink:href=\"#DejaVuSans-48\"/>\n      </g>\n     </g>\n    </g>\n   </g>\n   <g id=\"patch_8\">\n    <path d=\"M 268.420625 224.64 \nL 268.420625 223.790625 \nL 268.420625 8.049375 \nL 268.420625 7.2 \nL 279.292625 7.2 \nL 279.292625 8.049375 \nL 279.292625 223.790625 \nL 279.292625 224.64 \nz\n\" style=\"fill:none;stroke:#000000;stroke-linejoin:miter;stroke-width:0.8;\"/>\n   </g>\n  </g>\n </g>\n <defs>\n  <clipPath id=\"pa25faa008c\">\n   <rect height=\"217.44\" width=\"217.44\" x=\"34.240625\" y=\"7.2\"/>\n  </clipPath>\n  <clipPath id=\"p8b954a829f\">\n   <rect height=\"217.44\" width=\"10.872\" x=\"268.420625\" y=\"7.2\"/>\n  </clipPath>\n </defs>\n</svg>\n",
      "image/png": "[encoded data removed]"
     },
     "metadata": {
      "needs_background": "light"
     }
    }
   ],
   "source": [
    "from sklearn.metrics import plot_confusion_matrix\n",
    "plot_confusion_matrix(knn, X_test_minmax, y_test, cmap=\"Blues\")\n",
    "plt.show()"
   ]
  },
  {
   "cell_type": "code",
   "execution_count": 21,
   "metadata": {},
   "outputs": [],
   "source": [
    "# from sklearn.metrics import classification_report\n",
    "# print(classification_report(y_test, predictions,\n",
    "#                             target_names=['class 1(age)', 'class 2(total_claim_amount)', 'class 3(auto_year)','class 4(incident_hour_of_the_day)', 'class 5(injury_claim)','class 6(property_claim)', 'class 7(property_claim)', 'class 8(vehicle_claim)']\n"
   ]
  },
  {
   "cell_type": "code",
   "execution_count": 22,
   "metadata": {},
   "outputs": [
    {
     "output_type": "execute_result",
     "data": {
      "text/plain": [
       "['Adebayo_KNN10.sav']"
      ]
     },
     "metadata": {},
     "execution_count": 22
    }
   ],
   "source": [
    "# save your model by updating \"your_name\" with your name\n",
    "# and \"your_model\" with your model variable\n",
    "# be sure to turn this in to BCS\n",
    "# if joblib fails to import, try running the command to install in terminal/git-bash\n",
    "import joblib\n",
    "filename = 'Adebayo_KNN10.sav'\n",
    "joblib.dump(knn, filename)"
   ]
  },
  {
   "cell_type": "code",
   "execution_count": null,
   "metadata": {},
   "outputs": [],
   "source": []
  }
 ],
 "metadata": {
  "kernelspec": {
   "name": "python3",
   "display_name": "Python 3.6.13 64-bit ('PythonAdv': conda)"
  },
  "language_info": {
   "codemirror_mode": {
    "name": "ipython",
    "version": 3
   },
   "file_extension": ".py",
   "mimetype": "text/x-python",
   "name": "python",
   "nbconvert_exporter": "python",
   "pygments_lexer": "ipython3",
   "version": "3.6.13"
  },
  "metadata": {
   "interpreter": {
    "hash": "b8bdd4e700647ba2b08c59e5df8b7da1dcf50a218bcd4c1bcd9b3dc92e8788e5"
   }
  },
  "interpreter": {
   "hash": "2e86bb4a8b20d417404c7e36f8d5851dc01c09194186643532440d5ea91d6901"
  }
 },
 "nbformat": 4,
 "nbformat_minor": 2
}